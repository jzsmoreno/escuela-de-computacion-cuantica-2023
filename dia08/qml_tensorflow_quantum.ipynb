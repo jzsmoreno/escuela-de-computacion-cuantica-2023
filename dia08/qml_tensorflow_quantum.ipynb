{
 "cells": [
  {
   "cell_type": "markdown",
   "metadata": {
    "id": "s_qh8ICDwPpF"
   },
   "source": [
    "## [Grant et al.] Heirarchical Quantum Classifiers"
   ]
  },
  {
   "cell_type": "markdown",
   "metadata": {
    "id": "qd-Y77dnwPpK"
   },
   "source": [
    "Heirarchical Quantum Classifiers[1] presents two different ansatz inspired by tensor networks. Namely, Multi-scale entaglement renormalization ansatz (MERA) and Tree Tensor Network (TTN). Grant et al. train the Parameterize Quantum Circuits (PQCs) from these ansatz for binary classification tasks based on the IRIS dataset."
   ]
  },
  {
   "cell_type": "markdown",
   "metadata": {
    "id": "zKqQMITdwPpK"
   },
   "source": [
    "We demonstrate the work presented in [1], by classifying the classes in IRIS and compare their performance. We also chose to use only $ry$ (i.e real) rotations in the ansatz. All the other details will be the same as [1]. \n",
    "\n",
    "We will use cirq and tensorflow-quantum."
   ]
  },
  {
   "cell_type": "code",
   "execution_count": 1,
   "metadata": {
    "id": "tdyFIOpNwPpL"
   },
   "outputs": [
    {
     "name": "stderr",
     "output_type": "stream",
     "text": [
      "2023-08-16 20:15:42.936824: W tensorflow/stream_executor/platform/default/dso_loader.cc:64] Could not load dynamic library 'libcudart.so.11.0'; dlerror: libcudart.so.11.0: cannot open shared object file: No such file or directory\n",
      "2023-08-16 20:15:42.936858: I tensorflow/stream_executor/cuda/cudart_stub.cc:29] Ignore above cudart dlerror if you do not have a GPU set up on your machine.\n",
      "2023-08-16 20:15:48.706720: W tensorflow/stream_executor/platform/default/dso_loader.cc:64] Could not load dynamic library 'libcuda.so.1'; dlerror: libcuda.so.1: cannot open shared object file: No such file or directory\n",
      "2023-08-16 20:15:48.706757: W tensorflow/stream_executor/cuda/cuda_driver.cc:269] failed call to cuInit: UNKNOWN ERROR (303)\n",
      "2023-08-16 20:15:48.706808: I tensorflow/stream_executor/cuda/cuda_diagnostics.cc:156] kernel driver does not appear to be running on this host (jupyter-alberto-40qbraid-2ecom): /proc/driver/nvidia/version does not exist\n",
      "2023-08-16 20:15:48.707082: I tensorflow/core/platform/cpu_feature_guard.cc:151] This TensorFlow binary is optimized with oneAPI Deep Neural Network Library (oneDNN) to use the following CPU instructions in performance-critical operations:  AVX2 AVX512F FMA\n",
      "To enable them in other operations, rebuild TensorFlow with the appropriate compiler flags.\n"
     ]
    }
   ],
   "source": [
    "import tensorflow as tf\n",
    "import tensorflow_quantum as tfq\n",
    "import keras as kr\n",
    "import cirq\n",
    "import sympy\n",
    "import numpy as np\n",
    "import os, csv\n",
    "\n",
    "# visualization tools\n",
    "%matplotlib inline\n",
    "import pandas as pd\n",
    "import matplotlib.pyplot as plt\n",
    "from cirq.contrib.svg import SVGCircuit\n",
    "from sklearn.model_selection import train_test_split\n",
    "\n",
    "seed = 42\n",
    "np.random.seed(seed)"
   ]
  },
  {
   "cell_type": "code",
   "execution_count": 2,
   "metadata": {
    "id": "6qBRyLF5wPpN"
   },
   "outputs": [
    {
     "name": "stdout",
     "output_type": "stream",
     "text": [
      "  % Total    % Received % Xferd  Average Speed   Time    Time     Time  Current\n",
      "                                 Dload  Upload   Total   Spent    Left  Speed\n",
      "100  4551    0  4551    0     0  14493      0 --:--:-- --:--:-- --:--:-- 14539\n"
     ]
    }
   ],
   "source": [
    "!export IRIS_URL=\"https://archive.ics.uci.edu/ml/machine-learning-databases/iris/iris.data\" && curl $IRIS_URL > iris.csv"
   ]
  },
  {
   "cell_type": "markdown",
   "metadata": {
    "id": "f-W7lwofwPpO"
   },
   "source": [
    "# Classical  part"
   ]
  },
  {
   "cell_type": "code",
   "execution_count": 3,
   "metadata": {
    "id": "bDgmNTbQwPpO"
   },
   "outputs": [
    {
     "data": {
      "text/html": [
       "<div>\n",
       "<style scoped>\n",
       "    .dataframe tbody tr th:only-of-type {\n",
       "        vertical-align: middle;\n",
       "    }\n",
       "\n",
       "    .dataframe tbody tr th {\n",
       "        vertical-align: top;\n",
       "    }\n",
       "\n",
       "    .dataframe thead th {\n",
       "        text-align: right;\n",
       "    }\n",
       "</style>\n",
       "<table border=\"1\" class=\"dataframe\">\n",
       "  <thead>\n",
       "    <tr style=\"text-align: right;\">\n",
       "      <th></th>\n",
       "      <th>5.1</th>\n",
       "      <th>3.5</th>\n",
       "      <th>1.4</th>\n",
       "      <th>0.2</th>\n",
       "      <th>Iris-setosa</th>\n",
       "    </tr>\n",
       "  </thead>\n",
       "  <tbody>\n",
       "    <tr>\n",
       "      <th>0</th>\n",
       "      <td>4.9</td>\n",
       "      <td>3.0</td>\n",
       "      <td>1.4</td>\n",
       "      <td>0.2</td>\n",
       "      <td>Iris-setosa</td>\n",
       "    </tr>\n",
       "    <tr>\n",
       "      <th>1</th>\n",
       "      <td>4.7</td>\n",
       "      <td>3.2</td>\n",
       "      <td>1.3</td>\n",
       "      <td>0.2</td>\n",
       "      <td>Iris-setosa</td>\n",
       "    </tr>\n",
       "    <tr>\n",
       "      <th>2</th>\n",
       "      <td>4.6</td>\n",
       "      <td>3.1</td>\n",
       "      <td>1.5</td>\n",
       "      <td>0.2</td>\n",
       "      <td>Iris-setosa</td>\n",
       "    </tr>\n",
       "    <tr>\n",
       "      <th>3</th>\n",
       "      <td>5.0</td>\n",
       "      <td>3.6</td>\n",
       "      <td>1.4</td>\n",
       "      <td>0.2</td>\n",
       "      <td>Iris-setosa</td>\n",
       "    </tr>\n",
       "    <tr>\n",
       "      <th>4</th>\n",
       "      <td>5.4</td>\n",
       "      <td>3.9</td>\n",
       "      <td>1.7</td>\n",
       "      <td>0.4</td>\n",
       "      <td>Iris-setosa</td>\n",
       "    </tr>\n",
       "  </tbody>\n",
       "</table>\n",
       "</div>"
      ],
      "text/plain": [
       "   5.1  3.5  1.4  0.2  Iris-setosa\n",
       "0  4.9  3.0  1.4  0.2  Iris-setosa\n",
       "1  4.7  3.2  1.3  0.2  Iris-setosa\n",
       "2  4.6  3.1  1.5  0.2  Iris-setosa\n",
       "3  5.0  3.6  1.4  0.2  Iris-setosa\n",
       "4  5.4  3.9  1.7  0.4  Iris-setosa"
      ]
     },
     "execution_count": 3,
     "metadata": {},
     "output_type": "execute_result"
    }
   ],
   "source": [
    "iris_data = pd.read_csv(\"./iris.csv\")\n",
    "iris_data.head()"
   ]
  },
  {
   "cell_type": "code",
   "execution_count": 4,
   "metadata": {
    "id": "Rv9LrlcHwPpP"
   },
   "outputs": [],
   "source": [
    "all_inputs = iris_data.iloc[:, 0:4].values\n",
    "all_types = iris_data.iloc[:, 4].values"
   ]
  },
  {
   "cell_type": "code",
   "execution_count": 5,
   "metadata": {
    "id": "Jngak6G0wPpQ"
   },
   "outputs": [
    {
     "name": "stdout",
     "output_type": "stream",
     "text": [
      "[4.9 2.4 3.3 1. ]  -  Iris-versicolor\n"
     ]
    }
   ],
   "source": [
    "print(all_inputs[56], \" - \", all_types[57])"
   ]
  },
  {
   "cell_type": "code",
   "execution_count": 6,
   "metadata": {
    "id": "3OZcv4eDwPpR"
   },
   "outputs": [
    {
     "data": {
      "text/plain": [
       "('Iris-setosa', 0, array([1., 0., 0.], dtype=float32))"
      ]
     },
     "execution_count": 6,
     "metadata": {},
     "output_type": "execute_result"
    }
   ],
   "source": [
    "outputs_vals, outputs_ints = np.unique(all_types, return_inverse=True)\n",
    "outputs_cats = tf.keras.utils.to_categorical(outputs_ints)\n",
    "outputs_vals[0], outputs_ints[0], outputs_cats[0]"
   ]
  },
  {
   "cell_type": "code",
   "execution_count": 7,
   "metadata": {
    "id": "VTt7jKICwPpR"
   },
   "outputs": [],
   "source": [
    "c_x_train, c_x_test, c_y_train, c_y_test = train_test_split(\n",
    "    all_inputs, outputs_cats, test_size=0.1, random_state=seed\n",
    ")"
   ]
  },
  {
   "cell_type": "code",
   "execution_count": 8,
   "metadata": {
    "id": "p9TV__mbwPpS"
   },
   "outputs": [
    {
     "name": "stdout",
     "output_type": "stream",
     "text": [
      "Model: \"sequential\"\n",
      "_________________________________________________________________\n",
      " Layer (type)                Output Shape              Param #   \n",
      "=================================================================\n",
      " dense (Dense)               (None, 2)                 10        \n",
      "                                                                 \n",
      " dense_1 (Dense)             (None, 3)                 9         \n",
      "                                                                 \n",
      " activation (Activation)     (None, 3)                 0         \n",
      "                                                                 \n",
      "=================================================================\n",
      "Total params: 19\n",
      "Trainable params: 19\n",
      "Non-trainable params: 0\n",
      "_________________________________________________________________\n"
     ]
    }
   ],
   "source": [
    "model = kr.models.Sequential()\n",
    "model.add(kr.layers.Dense(2, input_shape=(4,)))\n",
    "# model.add(kr.layers.Activation(\"sigmoid\"))\n",
    "model.add(kr.layers.Dense(3))\n",
    "model.add(kr.layers.Activation(\"softmax\"))\n",
    "\n",
    "model.summary()"
   ]
  },
  {
   "cell_type": "code",
   "execution_count": 9,
   "metadata": {
    "id": "UJx0e2LnwPpS"
   },
   "outputs": [],
   "source": [
    "model.compile(optimizer=\"adam\", loss=\"categorical_crossentropy\", metrics=[\"accuracy\"])"
   ]
  },
  {
   "cell_type": "code",
   "execution_count": 10,
   "metadata": {
    "id": "aGpk3_0WwPpS"
   },
   "outputs": [
    {
     "name": "stdout",
     "output_type": "stream",
     "text": [
      "Epoch 1/100\n",
      "134/134 [==============================] - 0s 765us/step - loss: 1.6271 - accuracy: 0.0075\n",
      "Epoch 2/100\n",
      "134/134 [==============================] - 0s 762us/step - loss: 1.2109 - accuracy: 0.2836\n",
      "Epoch 3/100\n",
      "134/134 [==============================] - 0s 732us/step - loss: 1.0243 - accuracy: 0.3582\n",
      "Epoch 4/100\n",
      "134/134 [==============================] - 0s 765us/step - loss: 0.8896 - accuracy: 0.3657\n",
      "Epoch 5/100\n",
      "134/134 [==============================] - 0s 715us/step - loss: 0.7813 - accuracy: 0.4179\n",
      "Epoch 6/100\n",
      "134/134 [==============================] - 0s 733us/step - loss: 0.6971 - accuracy: 0.6791\n",
      "Epoch 7/100\n",
      "134/134 [==============================] - 0s 783us/step - loss: 0.6290 - accuracy: 0.7537\n",
      "Epoch 8/100\n",
      "134/134 [==============================] - 0s 715us/step - loss: 0.5746 - accuracy: 0.8507\n",
      "Epoch 9/100\n",
      "134/134 [==============================] - 0s 733us/step - loss: 0.5286 - accuracy: 0.8284\n",
      "Epoch 10/100\n",
      "134/134 [==============================] - 0s 730us/step - loss: 0.4909 - accuracy: 0.8806\n",
      "Epoch 11/100\n",
      "134/134 [==============================] - 0s 729us/step - loss: 0.4605 - accuracy: 0.8806\n",
      "Epoch 12/100\n",
      "134/134 [==============================] - 0s 712us/step - loss: 0.4298 - accuracy: 0.9403\n",
      "Epoch 13/100\n",
      "134/134 [==============================] - 0s 719us/step - loss: 0.4059 - accuracy: 0.8806\n",
      "Epoch 14/100\n",
      "134/134 [==============================] - 0s 720us/step - loss: 0.3888 - accuracy: 0.9328\n",
      "Epoch 15/100\n",
      "134/134 [==============================] - 0s 738us/step - loss: 0.3659 - accuracy: 0.9403\n",
      "Epoch 16/100\n",
      "134/134 [==============================] - 0s 710us/step - loss: 0.3506 - accuracy: 0.9403\n",
      "Epoch 17/100\n",
      "134/134 [==============================] - 0s 738us/step - loss: 0.3353 - accuracy: 0.9552\n",
      "Epoch 18/100\n",
      "134/134 [==============================] - 0s 741us/step - loss: 0.3210 - accuracy: 0.9478\n",
      "Epoch 19/100\n",
      "134/134 [==============================] - 0s 740us/step - loss: 0.3066 - accuracy: 0.9478\n",
      "Epoch 20/100\n",
      "134/134 [==============================] - 0s 732us/step - loss: 0.2957 - accuracy: 0.9478\n",
      "Epoch 21/100\n",
      "134/134 [==============================] - 0s 737us/step - loss: 0.2815 - accuracy: 0.9552\n",
      "Epoch 22/100\n",
      "134/134 [==============================] - 0s 733us/step - loss: 0.2741 - accuracy: 0.9552\n",
      "Epoch 23/100\n",
      "134/134 [==============================] - 0s 737us/step - loss: 0.2606 - accuracy: 0.9627\n",
      "Epoch 24/100\n",
      "134/134 [==============================] - 0s 734us/step - loss: 0.2546 - accuracy: 0.9552\n",
      "Epoch 25/100\n",
      "134/134 [==============================] - 0s 731us/step - loss: 0.2435 - accuracy: 0.9627\n",
      "Epoch 26/100\n",
      "134/134 [==============================] - 0s 766us/step - loss: 0.2370 - accuracy: 0.9627\n",
      "Epoch 27/100\n",
      "134/134 [==============================] - 0s 728us/step - loss: 0.2290 - accuracy: 0.9627\n",
      "Epoch 28/100\n",
      "134/134 [==============================] - 0s 746us/step - loss: 0.2235 - accuracy: 0.9552\n",
      "Epoch 29/100\n",
      "134/134 [==============================] - 0s 739us/step - loss: 0.2167 - accuracy: 0.9478\n",
      "Epoch 30/100\n",
      "134/134 [==============================] - 0s 707us/step - loss: 0.2085 - accuracy: 0.9627\n",
      "Epoch 31/100\n",
      "134/134 [==============================] - 0s 708us/step - loss: 0.2008 - accuracy: 0.9701\n",
      "Epoch 32/100\n",
      "134/134 [==============================] - 0s 724us/step - loss: 0.1991 - accuracy: 0.9552\n",
      "Epoch 33/100\n",
      "134/134 [==============================] - 0s 712us/step - loss: 0.1916 - accuracy: 0.9701\n",
      "Epoch 34/100\n",
      "134/134 [==============================] - 0s 736us/step - loss: 0.1848 - accuracy: 0.9701\n",
      "Epoch 35/100\n",
      "134/134 [==============================] - 0s 734us/step - loss: 0.1794 - accuracy: 0.9552\n",
      "Epoch 36/100\n",
      "134/134 [==============================] - 0s 743us/step - loss: 0.1760 - accuracy: 0.9701\n",
      "Epoch 37/100\n",
      "134/134 [==============================] - 0s 748us/step - loss: 0.1707 - accuracy: 0.9701\n",
      "Epoch 38/100\n",
      "134/134 [==============================] - 0s 732us/step - loss: 0.1652 - accuracy: 0.9701\n",
      "Epoch 39/100\n",
      "134/134 [==============================] - 0s 772us/step - loss: 0.1621 - accuracy: 0.9776\n",
      "Epoch 40/100\n",
      "134/134 [==============================] - 0s 762us/step - loss: 0.1594 - accuracy: 0.9552\n",
      "Epoch 41/100\n",
      "134/134 [==============================] - 0s 782us/step - loss: 0.1552 - accuracy: 0.9701\n",
      "Epoch 42/100\n",
      "134/134 [==============================] - 0s 714us/step - loss: 0.1515 - accuracy: 0.9701\n",
      "Epoch 43/100\n",
      "134/134 [==============================] - 0s 716us/step - loss: 0.1519 - accuracy: 0.9701\n",
      "Epoch 44/100\n",
      "134/134 [==============================] - 0s 702us/step - loss: 0.1461 - accuracy: 0.9776\n",
      "Epoch 45/100\n",
      "134/134 [==============================] - 0s 717us/step - loss: 0.1420 - accuracy: 0.9701\n",
      "Epoch 46/100\n",
      "134/134 [==============================] - 0s 750us/step - loss: 0.1367 - accuracy: 0.9701\n",
      "Epoch 47/100\n",
      "134/134 [==============================] - 0s 735us/step - loss: 0.1411 - accuracy: 0.9701\n",
      "Epoch 48/100\n",
      "134/134 [==============================] - 0s 756us/step - loss: 0.1369 - accuracy: 0.9627\n",
      "Epoch 49/100\n",
      "134/134 [==============================] - 0s 747us/step - loss: 0.1301 - accuracy: 0.9776\n",
      "Epoch 50/100\n",
      "134/134 [==============================] - 0s 712us/step - loss: 0.1278 - accuracy: 0.9776\n",
      "Epoch 51/100\n",
      "134/134 [==============================] - 0s 719us/step - loss: 0.1256 - accuracy: 0.9776\n",
      "Epoch 52/100\n",
      "134/134 [==============================] - 0s 729us/step - loss: 0.1275 - accuracy: 0.9701\n",
      "Epoch 53/100\n",
      "134/134 [==============================] - 0s 710us/step - loss: 0.1204 - accuracy: 0.9701\n",
      "Epoch 54/100\n",
      "134/134 [==============================] - 0s 705us/step - loss: 0.1195 - accuracy: 0.9701\n",
      "Epoch 55/100\n",
      "134/134 [==============================] - 0s 736us/step - loss: 0.1184 - accuracy: 0.9776\n",
      "Epoch 56/100\n",
      "134/134 [==============================] - 0s 737us/step - loss: 0.1152 - accuracy: 0.9776\n",
      "Epoch 57/100\n",
      "134/134 [==============================] - 0s 731us/step - loss: 0.1126 - accuracy: 0.9776\n",
      "Epoch 58/100\n",
      "134/134 [==============================] - 0s 708us/step - loss: 0.1124 - accuracy: 0.9701\n",
      "Epoch 59/100\n",
      "134/134 [==============================] - 0s 694us/step - loss: 0.1112 - accuracy: 0.9776\n",
      "Epoch 60/100\n",
      "134/134 [==============================] - 0s 715us/step - loss: 0.1083 - accuracy: 0.9701\n",
      "Epoch 61/100\n",
      "134/134 [==============================] - 0s 764us/step - loss: 0.1083 - accuracy: 0.9776\n",
      "Epoch 62/100\n",
      "134/134 [==============================] - 0s 719us/step - loss: 0.1029 - accuracy: 0.9776\n",
      "Epoch 63/100\n",
      "134/134 [==============================] - 0s 738us/step - loss: 0.1021 - accuracy: 0.9925\n",
      "Epoch 64/100\n",
      "134/134 [==============================] - 0s 738us/step - loss: 0.0994 - accuracy: 0.9776\n",
      "Epoch 65/100\n",
      "134/134 [==============================] - 0s 730us/step - loss: 0.1017 - accuracy: 0.9776\n",
      "Epoch 66/100\n",
      "134/134 [==============================] - 0s 714us/step - loss: 0.0956 - accuracy: 0.9701\n",
      "Epoch 67/100\n",
      "134/134 [==============================] - 0s 766us/step - loss: 0.0988 - accuracy: 0.9925\n",
      "Epoch 68/100\n",
      "134/134 [==============================] - 0s 718us/step - loss: 0.0963 - accuracy: 0.9701\n",
      "Epoch 69/100\n",
      "134/134 [==============================] - 0s 722us/step - loss: 0.0927 - accuracy: 0.9851\n",
      "Epoch 70/100\n",
      "134/134 [==============================] - 0s 717us/step - loss: 0.0941 - accuracy: 0.9701\n",
      "Epoch 71/100\n",
      "134/134 [==============================] - 0s 707us/step - loss: 0.0894 - accuracy: 0.9701\n",
      "Epoch 72/100\n",
      "134/134 [==============================] - 0s 715us/step - loss: 0.0900 - accuracy: 0.9776\n",
      "Epoch 73/100\n",
      "134/134 [==============================] - 0s 687us/step - loss: 0.0928 - accuracy: 0.9701\n",
      "Epoch 74/100\n",
      "134/134 [==============================] - 0s 765us/step - loss: 0.0874 - accuracy: 0.9776\n",
      "Epoch 75/100\n",
      "134/134 [==============================] - 0s 746us/step - loss: 0.0889 - accuracy: 0.9851\n",
      "Epoch 76/100\n",
      "134/134 [==============================] - 0s 707us/step - loss: 0.0883 - accuracy: 0.9776\n",
      "Epoch 77/100\n",
      "134/134 [==============================] - 0s 728us/step - loss: 0.0880 - accuracy: 0.9776\n",
      "Epoch 78/100\n",
      "134/134 [==============================] - 0s 732us/step - loss: 0.0868 - accuracy: 0.9776\n",
      "Epoch 79/100\n",
      "134/134 [==============================] - 0s 751us/step - loss: 0.0838 - accuracy: 0.9776\n",
      "Epoch 80/100\n",
      "134/134 [==============================] - 0s 729us/step - loss: 0.0836 - accuracy: 0.9776\n",
      "Epoch 81/100\n",
      "134/134 [==============================] - 0s 767us/step - loss: 0.0860 - accuracy: 0.9776\n",
      "Epoch 82/100\n",
      "134/134 [==============================] - 0s 741us/step - loss: 0.0827 - accuracy: 0.9776\n",
      "Epoch 83/100\n",
      "134/134 [==============================] - 0s 752us/step - loss: 0.0802 - accuracy: 0.9776\n",
      "Epoch 84/100\n",
      "134/134 [==============================] - 0s 728us/step - loss: 0.0783 - accuracy: 0.9776\n",
      "Epoch 85/100\n",
      "134/134 [==============================] - 0s 743us/step - loss: 0.0820 - accuracy: 0.9776\n",
      "Epoch 86/100\n",
      "134/134 [==============================] - 0s 728us/step - loss: 0.0779 - accuracy: 0.9776\n",
      "Epoch 87/100\n",
      "134/134 [==============================] - 0s 724us/step - loss: 0.0766 - accuracy: 0.9701\n",
      "Epoch 88/100\n",
      "134/134 [==============================] - 0s 721us/step - loss: 0.0777 - accuracy: 0.9776\n",
      "Epoch 89/100\n",
      "134/134 [==============================] - 0s 780us/step - loss: 0.0758 - accuracy: 0.9776\n",
      "Epoch 90/100\n",
      "134/134 [==============================] - 0s 716us/step - loss: 0.0764 - accuracy: 0.9776\n",
      "Epoch 91/100\n",
      "134/134 [==============================] - 0s 703us/step - loss: 0.0744 - accuracy: 0.9776\n",
      "Epoch 92/100\n",
      "134/134 [==============================] - 0s 745us/step - loss: 0.0755 - accuracy: 0.9925\n",
      "Epoch 93/100\n",
      "134/134 [==============================] - 0s 716us/step - loss: 0.0741 - accuracy: 0.9776\n",
      "Epoch 94/100\n",
      "134/134 [==============================] - 0s 714us/step - loss: 0.0795 - accuracy: 0.9627\n",
      "Epoch 95/100\n",
      "134/134 [==============================] - 0s 779us/step - loss: 0.0737 - accuracy: 0.9701\n",
      "Epoch 96/100\n",
      "134/134 [==============================] - 0s 782us/step - loss: 0.0717 - accuracy: 0.9776\n",
      "Epoch 97/100\n",
      "134/134 [==============================] - 0s 752us/step - loss: 0.0721 - accuracy: 0.9776\n",
      "Epoch 98/100\n",
      "134/134 [==============================] - 0s 736us/step - loss: 0.0713 - accuracy: 0.9851\n",
      "Epoch 99/100\n",
      "134/134 [==============================] - 0s 735us/step - loss: 0.0708 - accuracy: 0.9776\n",
      "Epoch 100/100\n",
      "134/134 [==============================] - 0s 743us/step - loss: 0.0700 - accuracy: 0.9925\n"
     ]
    },
    {
     "data": {
      "image/png": "[encoded data removed]",
      "text/plain": [
       "<Figure size 640x480 with 1 Axes>"
      ]
     },
     "metadata": {},
     "output_type": "display_data"
    },
    {
     "name": "stdout",
     "output_type": "stream",
     "text": [
      "Final accuracy value: 0.9925373196601868\n",
      "Final loss value: 0.0699608325958252\n"
     ]
    }
   ],
   "source": [
    "history = model.fit(c_x_train, c_y_train, epochs=100, batch_size=1, verbose=1)\n",
    "plt.plot(history.history[\"accuracy\"])\n",
    "plt.plot(history.history[\"loss\"])\n",
    "plt.title(\"Classification for IRIS data set\")\n",
    "plt.xlabel(\"Iterations\")\n",
    "plt.ylabel(\"Acc/Error in classification\")\n",
    "plt.show()\n",
    "print(\"Final accuracy value:\", history.history[\"accuracy\"][-1])\n",
    "print(\"Final loss value:\", history.history[\"loss\"][-1])"
   ]
  },
  {
   "cell_type": "code",
   "execution_count": 11,
   "metadata": {
    "id": "5iWTID06wPpT"
   },
   "outputs": [
    {
     "data": {
      "text/plain": [
       "0.9195849522948265"
      ]
     },
     "execution_count": 11,
     "metadata": {},
     "output_type": "execute_result"
    }
   ],
   "source": [
    "c_pred = model.predict(c_x_test)\n",
    "(1 - np.mean(np.abs(c_pred - c_y_test))) * 1"
   ]
  },
  {
   "cell_type": "markdown",
   "metadata": {
    "id": "5v3fcYJNwPpT"
   },
   "source": [
    "## Data Encoding\n",
    "\n",
    "### IRIS data set encoding\n",
    "We standardize the data and make this a binary classification problem.\n",
    "\n",
    "1. First we will fetch the IRIS dataset\n",
    "2. Select the datagrams with labels 0, 1 or 2, and set the label as [-1,-1],[-1,1],[1,1] respectively.\n"
   ]
  },
  {
   "cell_type": "markdown",
   "metadata": {
    "id": "9ZxvyLzrwPpU"
   },
   "source": [
    "### Standardize the data"
   ]
  },
  {
   "cell_type": "code",
   "execution_count": 12,
   "metadata": {
    "id": "rxWRY3HkwPpU"
   },
   "outputs": [],
   "source": [
    "class IrisData:\n",
    "    def __init__(self):\n",
    "        return\n",
    "\n",
    "    def _get_binary_dataset(self):\n",
    "        with open(\"./iris.csv\") as csv_file:\n",
    "            reader = csv.reader(csv_file, delimiter=\",\")\n",
    "            rows = list(reader)\n",
    "            rows.pop()\n",
    "            data = [row for row in rows if row[4]]\n",
    "            for datum in data:\n",
    "                if datum[4] == \"Iris-versicolor\":\n",
    "                    datum[4] = 0\n",
    "                elif datum[4] == \"Iris-setosa\":\n",
    "                    datum[4] = 1\n",
    "                else:\n",
    "                    datum[4] = 2\n",
    "            data = np.array(data, dtype=np.float32)\n",
    "            labels = data[:, 4]\n",
    "            data = data[:, :4]\n",
    "            data = data.reshape(150, 4, 1)\n",
    "            return data, labels\n",
    "\n",
    "    def get_binary_test_train_split(self):\n",
    "        data, labels = self._get_binary_dataset()\n",
    "        _data = []\n",
    "\n",
    "        qubits = cirq.GridQubit.rect(1, 4)\n",
    "        for idx in range(data.shape[0]):\n",
    "            datapoint = data[idx]\n",
    "            _circuit = cirq.Circuit()\n",
    "\n",
    "            _circuit.append(cirq.ry(datapoint[0][0])(qubits[0]))\n",
    "            _circuit.append(cirq.ry(datapoint[1][0])(qubits[1]))\n",
    "            _circuit.append(cirq.ry(datapoint[2][0])(qubits[2]))\n",
    "            _circuit.append(cirq.ry(datapoint[3][0])(qubits[3]))\n",
    "            _data.append(_circuit)\n",
    "        enc_labels = []\n",
    "        for i in labels:\n",
    "            if i == 0:\n",
    "                enc_labels.append([1, 0, 0])\n",
    "            elif i == 1:\n",
    "                enc_labels.append([0, 1, 0])\n",
    "            elif i == 2:\n",
    "                enc_labels.append([0, 0, 1])\n",
    "        X_train, X_test, y_train, y_test = train_test_split(\n",
    "            _data, np.asarray(enc_labels), test_size=0.1, random_state=seed\n",
    "        )\n",
    "        # display(SVGCircuit(X_train[0]))\n",
    "        X_train, X_test = tfq.convert_to_tensor(X_train), tfq.convert_to_tensor(X_test)\n",
    "        return X_train, X_test, y_train, y_test\n",
    "\n",
    "    def get_binary_test_train_split_img(self):\n",
    "        data, labels = self._get_binary_dataset()\n",
    "        _data = []\n",
    "\n",
    "        qubits = cirq.GridQubit.rect(1, 4)\n",
    "        for idx in range(data.shape[0]):\n",
    "            datapoint = data[idx]\n",
    "            _circuit = cirq.Circuit()\n",
    "\n",
    "            _circuit.append(cirq.ry(datapoint[0][0])(qubits[0]))\n",
    "            _circuit.append(cirq.ry(datapoint[1][0])(qubits[1]))\n",
    "            _circuit.append(cirq.ry(datapoint[2][0])(qubits[2]))\n",
    "            _circuit.append(cirq.ry(datapoint[3][0])(qubits[3]))\n",
    "\n",
    "            # _circuit.append(encode_classical_datapoint(np.array(datapoint[i][::-1]), [qubits[i]]))\n",
    "            _data.append(_circuit)\n",
    "        enc_labels = []\n",
    "        for i in labels:\n",
    "            if i == 0:\n",
    "                enc_labels.append([1, 0, 0])\n",
    "            elif i == 1:\n",
    "                enc_labels.append([0, 1, 0])\n",
    "            elif i == 2:\n",
    "                enc_labels.append([0, 0, 1])\n",
    "        X_train, X_test, y_train, y_test = train_test_split(\n",
    "            _data, np.asarray(enc_labels), test_size=0.1, random_state=seed, shuffle=True\n",
    "        )\n",
    "        display(SVGCircuit(X_train[0]))\n",
    "        X_train, X_test = tfq.convert_to_tensor(X_train), tfq.convert_to_tensor(X_test)\n",
    "        return X_train, X_test, y_train, y_test"
   ]
  },
  {
   "cell_type": "code",
   "execution_count": 13,
   "metadata": {
    "id": "-HpcooLMwPpV"
   },
   "outputs": [
    {
     "name": "stderr",
     "output_type": "stream",
     "text": [
      "findfont: Font family 'Arial' not found.\n",
      "findfont: Font family 'Arial' not found.\n",
      "findfont: Font family 'Arial' not found.\n",
      "findfont: Font family 'Arial' not found.\n",
      "findfont: Font family 'Arial' not found.\n",
      "findfont: Font family 'Arial' not found.\n",
      "findfont: Font family 'Arial' not found.\n",
      "findfont: Font family 'Arial' not found.\n"
     ]
    },
    {
     "data": {
      "image/svg+xml": [
       "<svg xmlns=\"http://www.w3.org/2000/svg\" width=\"213.61546875\" height=\"200.0\"><line x1=\"34.7588671875\" x2=\"183.61546875\" y1=\"25.0\" y2=\"25.0\" stroke=\"#1967d2\" stroke-width=\"1\" /><line x1=\"34.7588671875\" x2=\"183.61546875\" y1=\"75.0\" y2=\"75.0\" stroke=\"#1967d2\" stroke-width=\"1\" /><line x1=\"34.7588671875\" x2=\"183.61546875\" y1=\"125.0\" y2=\"125.0\" stroke=\"#1967d2\" stroke-width=\"1\" /><line x1=\"34.7588671875\" x2=\"183.61546875\" y1=\"175.0\" y2=\"175.0\" stroke=\"#1967d2\" stroke-width=\"1\" /><rect x=\"10.0\" y=\"5.0\" width=\"49.517734375\" height=\"40\" stroke=\"black\" fill=\"white\" stroke-width=\"0\" /><text x=\"34.7588671875\" y=\"25.0\" dominant-baseline=\"middle\" text-anchor=\"middle\" font-size=\"14px\" font-family=\"Arial\">(0, 0): </text><rect x=\"10.0\" y=\"55.0\" width=\"49.517734375\" height=\"40\" stroke=\"black\" fill=\"white\" stroke-width=\"0\" /><text x=\"34.7588671875\" y=\"75.0\" dominant-baseline=\"middle\" text-anchor=\"middle\" font-size=\"14px\" font-family=\"Arial\">(0, 1): </text><rect x=\"10.0\" y=\"105.0\" width=\"49.517734375\" height=\"40\" stroke=\"black\" fill=\"white\" stroke-width=\"0\" /><text x=\"34.7588671875\" y=\"125.0\" dominant-baseline=\"middle\" text-anchor=\"middle\" font-size=\"14px\" font-family=\"Arial\">(0, 2): </text><rect x=\"10.0\" y=\"155.0\" width=\"49.517734375\" height=\"40\" stroke=\"black\" fill=\"white\" stroke-width=\"0\" /><text x=\"34.7588671875\" y=\"175.0\" dominant-baseline=\"middle\" text-anchor=\"middle\" font-size=\"14px\" font-family=\"Arial\">(0, 3): </text><rect x=\"79.517734375\" y=\"5.0\" width=\"84.097734375\" height=\"40\" stroke=\"black\" fill=\"white\" stroke-width=\"1\" /><text x=\"121.56660156250001\" y=\"25.0\" dominant-baseline=\"middle\" text-anchor=\"middle\" font-size=\"14px\" font-family=\"Arial\">Ry(-2.0π)</text><rect x=\"79.517734375\" y=\"55.0\" width=\"84.097734375\" height=\"40\" stroke=\"black\" fill=\"white\" stroke-width=\"1\" /><text x=\"121.56660156250001\" y=\"75.0\" dominant-baseline=\"middle\" text-anchor=\"middle\" font-size=\"14px\" font-family=\"Arial\">Ry(1.05π)</text><rect x=\"79.517734375\" y=\"105.0\" width=\"84.097734375\" height=\"40\" stroke=\"black\" fill=\"white\" stroke-width=\"1\" /><text x=\"121.56660156250001\" y=\"125.0\" dominant-baseline=\"middle\" text-anchor=\"middle\" font-size=\"14px\" font-family=\"Arial\">Ry(1.5π)</text><rect x=\"79.517734375\" y=\"155.0\" width=\"84.097734375\" height=\"40\" stroke=\"black\" fill=\"white\" stroke-width=\"1\" /><text x=\"121.56660156250001\" y=\"175.0\" dominant-baseline=\"middle\" text-anchor=\"middle\" font-size=\"14px\" font-family=\"Arial\">Ry(0.509π)</text></svg>"
      ],
      "text/plain": [
       "<cirq.contrib.svg.svg.SVGCircuit at 0x7fe645c4dd60>"
      ]
     },
     "metadata": {},
     "output_type": "display_data"
    },
    {
     "name": "stdout",
     "output_type": "stream",
     "text": [
      "(135,) (15,) (135, 3) (15, 3)\n"
     ]
    }
   ],
   "source": [
    "iris_data = IrisData()\n",
    "X_train, X_test, y_train, y_test = iris_data.get_binary_test_train_split_img()\n",
    "print(X_train.shape, X_test.shape, y_train.shape, y_test.shape)"
   ]
  },
  {
   "cell_type": "markdown",
   "metadata": {
    "id": "yNZgNrZzwPpX"
   },
   "source": [
    "### Model Definitions"
   ]
  },
  {
   "cell_type": "code",
   "execution_count": 14,
   "metadata": {
    "id": "EHSu9BziwPpX"
   },
   "outputs": [],
   "source": [
    "class TTNBinaryClassificationModel:\n",
    "    def __init__(self):\n",
    "        return\n",
    "\n",
    "    def _ttn_model_iris(self, qubits):\n",
    "        symbols, circuit = sympy.symbols(\"x0:19\"), cirq.Circuit()\n",
    "        circuit.append(cirq.Y(qubits[0]) ** (symbols[0]))\n",
    "        circuit.append(cirq.CNOT(qubits[0], qubits[1]))\n",
    "        circuit.append(cirq.ry(symbols[1])(qubits[1]))\n",
    "\n",
    "        circuit.append(cirq.ry(symbols[2])(qubits[2]))\n",
    "        circuit.append(cirq.CNOT(qubits[2], qubits[3]))\n",
    "        circuit.append(cirq.ry(symbols[3])(qubits[3]))\n",
    "\n",
    "        circuit.append(cirq.ry(symbols[4])(qubits[0]))\n",
    "        circuit.append(cirq.CNOT(qubits[0], qubits[2]))\n",
    "        circuit.append(cirq.ry(symbols[5])(qubits[2]))\n",
    "\n",
    "        return circuit, symbols\n",
    "\n",
    "    @tf.function\n",
    "    def _custom_accuracy(self, y_true, y_pred):\n",
    "        y_pred = tf.sign(y_pred)\n",
    "\n",
    "        return tf.keras.backend.mean(tf.keras.backend.equal(y_true, tf.sign(y_pred)))\n",
    "\n",
    "    def _iris_model_compile(self):\n",
    "        # declare qubits and readout operators\n",
    "        iris_data = IrisData()\n",
    "        (\n",
    "            self.iris_X_train,\n",
    "            self.iris_X_test,\n",
    "            self.iris_y_train,\n",
    "            self.iris_y_test,\n",
    "        ) = iris_data.get_binary_test_train_split()\n",
    "\n",
    "        cluster_state_bits = cirq.GridQubit.rect(1, 4)\n",
    "        readout_operators = [\n",
    "            cirq.Z(cluster_state_bits[1]),\n",
    "            cirq.Z(cluster_state_bits[2]),\n",
    "            cirq.Z(cluster_state_bits[3]),\n",
    "        ]\n",
    "\n",
    "        iris_ttn_model, symbols = self._ttn_model_iris(cluster_state_bits)\n",
    "\n",
    "        iris_model = tf.keras.Sequential(\n",
    "            [\n",
    "                # The input is the data-circuit, encoded as a tf.string\n",
    "                tf.keras.layers.Input(shape=(), dtype=tf.string),\n",
    "                # The PQC layer returns the expected value of the readout gate, range [-1,1].\n",
    "                tfq.layers.PQC(iris_ttn_model, readout_operators),\n",
    "                # tf.keras.layers.Reshape((1,3)),\n",
    "                # tf.keras.layers.LSTM(units=1),\n",
    "                tf.keras.layers.Dense(units=3),\n",
    "                tf.keras.layers.Activation(\"softmax\"),\n",
    "            ]\n",
    "        )\n",
    "\n",
    "        print(iris_model.summary())\n",
    "        iris_model.compile(optimizer=\"adam\", loss=\"categorical_crossentropy\", metrics=[\"accuracy\"])\n",
    "        tf.keras.utils.plot_model(iris_model, show_shapes=True, dpi=70)\n",
    "\n",
    "        self.iris_model = iris_model\n",
    "\n",
    "    def iris_model_fit(self):\n",
    "        self._iris_model_compile()\n",
    "        history = self.iris_model.fit(\n",
    "            x=self.iris_X_train, y=self.iris_y_train, batch_size=1, epochs=100, verbose=1\n",
    "        )\n",
    "        # print(history)\n",
    "        plt.plot(history.history[\"accuracy\"])\n",
    "        plt.plot(history.history[\"loss\"])\n",
    "        plt.title(\"Classification for IRIS data set\")\n",
    "        plt.xlabel(\"Iterations\")\n",
    "        plt.ylabel(\"Acc/Error in classification\")\n",
    "        plt.show()\n",
    "        print(\"Final accuracy value:\", history.history[\"accuracy\"][-1])\n",
    "        print(\"Final loss value:\", history.history[\"loss\"][-1])\n",
    "\n",
    "    def iris_model_accuracy(self):\n",
    "        predicted = self.iris_model.predict(self.iris_X_test)\n",
    "        iris_y_test = self.iris_y_test\n",
    "        return (1 - np.mean(np.abs(predicted - iris_y_test))) * 100"
   ]
  },
  {
   "cell_type": "code",
   "execution_count": 15,
   "metadata": {
    "id": "52K6fDEGwPpZ"
   },
   "outputs": [],
   "source": [
    "ttn_binary_classification_model = TTNBinaryClassificationModel()"
   ]
  },
  {
   "cell_type": "code",
   "execution_count": 16,
   "metadata": {
    "id": "2fS7erlhwPpZ"
   },
   "outputs": [
    {
     "name": "stderr",
     "output_type": "stream",
     "text": [
      "findfont: Font family 'Arial' not found.\n",
      "findfont: Font family 'Arial' not found.\n",
      "findfont: Font family 'Arial' not found.\n",
      "findfont: Font family 'Arial' not found.\n",
      "findfont: Font family 'Arial' not found.\n",
      "findfont: Font family 'Arial' not found.\n",
      "findfont: Font family 'Arial' not found.\n",
      "findfont: Font family 'Arial' not found.\n",
      "findfont: Font family 'Arial' not found.\n",
      "findfont: Font family 'Arial' not found.\n",
      "findfont: Font family 'Arial' not found.\n",
      "findfont: Font family 'Arial' not found.\n",
      "findfont: Font family 'Arial' not found.\n",
      "findfont: Font family 'Arial' not found.\n",
      "findfont: Font family 'Arial' not found.\n",
      "findfont: Font family 'Arial' not found.\n"
     ]
    },
    {
     "data": {
      "image/svg+xml": [
       "<svg xmlns=\"http://www.w3.org/2000/svg\" width=\"447.8646484375\" height=\"200.0\"><line x1=\"34.7588671875\" x2=\"417.8646484375\" y1=\"25.0\" y2=\"25.0\" stroke=\"#1967d2\" stroke-width=\"1\" /><line x1=\"34.7588671875\" x2=\"417.8646484375\" y1=\"75.0\" y2=\"75.0\" stroke=\"#1967d2\" stroke-width=\"1\" /><line x1=\"34.7588671875\" x2=\"417.8646484375\" y1=\"125.0\" y2=\"125.0\" stroke=\"#1967d2\" stroke-width=\"1\" /><line x1=\"34.7588671875\" x2=\"417.8646484375\" y1=\"175.0\" y2=\"175.0\" stroke=\"#1967d2\" stroke-width=\"1\" /><line x1=\"172.3000390625\" x2=\"172.3000390625\" y1=\"25.0\" y2=\"75.0\" stroke=\"black\" stroke-width=\"3\" /><line x1=\"172.3000390625\" x2=\"172.3000390625\" y1=\"125.0\" y2=\"175.0\" stroke=\"black\" stroke-width=\"3\" /><line x1=\"305.08234375\" x2=\"305.08234375\" y1=\"25.0\" y2=\"125.0\" stroke=\"black\" stroke-width=\"3\" /><rect x=\"10.0\" y=\"5.0\" width=\"49.517734375\" height=\"40\" stroke=\"black\" fill=\"white\" stroke-width=\"0\" /><text x=\"34.7588671875\" y=\"25.0\" dominant-baseline=\"middle\" text-anchor=\"middle\" font-size=\"14px\" font-family=\"Arial\">(0, 0): </text><rect x=\"10.0\" y=\"55.0\" width=\"49.517734375\" height=\"40\" stroke=\"black\" fill=\"white\" stroke-width=\"0\" /><text x=\"34.7588671875\" y=\"75.0\" dominant-baseline=\"middle\" text-anchor=\"middle\" font-size=\"14px\" font-family=\"Arial\">(0, 1): </text><rect x=\"10.0\" y=\"105.0\" width=\"49.517734375\" height=\"40\" stroke=\"black\" fill=\"white\" stroke-width=\"0\" /><text x=\"34.7588671875\" y=\"125.0\" dominant-baseline=\"middle\" text-anchor=\"middle\" font-size=\"14px\" font-family=\"Arial\">(0, 2): </text><rect x=\"10.0\" y=\"155.0\" width=\"49.517734375\" height=\"40\" stroke=\"black\" fill=\"white\" stroke-width=\"0\" /><text x=\"34.7588671875\" y=\"175.0\" dominant-baseline=\"middle\" text-anchor=\"middle\" font-size=\"14px\" font-family=\"Arial\">(0, 3): </text><rect x=\"79.517734375\" y=\"5.0\" width=\"52.7823046875\" height=\"40\" stroke=\"black\" fill=\"white\" stroke-width=\"1\" /><text x=\"105.90888671875001\" y=\"25.0\" dominant-baseline=\"middle\" text-anchor=\"middle\" font-size=\"14px\" font-family=\"Arial\">Y^x0</text><rect x=\"79.517734375\" y=\"105.0\" width=\"52.7823046875\" height=\"40\" stroke=\"black\" fill=\"white\" stroke-width=\"1\" /><text x=\"105.90888671875001\" y=\"125.0\" dominant-baseline=\"middle\" text-anchor=\"middle\" font-size=\"14px\" font-family=\"Arial\">Ry(x2)</text><circle cx=\"172.3000390625\" cy=\"25.0\" r=\"10.0\" /><rect x=\"152.3000390625\" y=\"55.0\" width=\"40\" height=\"40\" stroke=\"black\" fill=\"white\" stroke-width=\"1\" /><text x=\"172.3000390625\" y=\"75.0\" dominant-baseline=\"middle\" text-anchor=\"middle\" font-size=\"18px\" font-family=\"Arial\">X</text><circle cx=\"172.3000390625\" cy=\"125.0\" r=\"10.0\" /><rect x=\"152.3000390625\" y=\"155.0\" width=\"40\" height=\"40\" stroke=\"black\" fill=\"white\" stroke-width=\"1\" /><text x=\"172.3000390625\" y=\"175.0\" dominant-baseline=\"middle\" text-anchor=\"middle\" font-size=\"18px\" font-family=\"Arial\">X</text><rect x=\"212.3000390625\" y=\"55.0\" width=\"52.7823046875\" height=\"40\" stroke=\"black\" fill=\"white\" stroke-width=\"1\" /><text x=\"238.69119140625\" y=\"75.0\" dominant-baseline=\"middle\" text-anchor=\"middle\" font-size=\"14px\" font-family=\"Arial\">Ry(x1)</text><rect x=\"212.3000390625\" y=\"155.0\" width=\"52.7823046875\" height=\"40\" stroke=\"black\" fill=\"white\" stroke-width=\"1\" /><text x=\"238.69119140625\" y=\"175.0\" dominant-baseline=\"middle\" text-anchor=\"middle\" font-size=\"14px\" font-family=\"Arial\">Ry(x3)</text><rect x=\"212.3000390625\" y=\"5.0\" width=\"52.7823046875\" height=\"40\" stroke=\"black\" fill=\"white\" stroke-width=\"1\" /><text x=\"238.69119140625\" y=\"25.0\" dominant-baseline=\"middle\" text-anchor=\"middle\" font-size=\"14px\" font-family=\"Arial\">Ry(x4)</text><circle cx=\"305.08234375\" cy=\"25.0\" r=\"10.0\" /><rect x=\"285.08234375\" y=\"105.0\" width=\"40\" height=\"40\" stroke=\"black\" fill=\"white\" stroke-width=\"1\" /><text x=\"305.08234375\" y=\"125.0\" dominant-baseline=\"middle\" text-anchor=\"middle\" font-size=\"18px\" font-family=\"Arial\">X</text><rect x=\"345.08234375\" y=\"105.0\" width=\"52.7823046875\" height=\"40\" stroke=\"black\" fill=\"white\" stroke-width=\"1\" /><text x=\"371.47349609375\" y=\"125.0\" dominant-baseline=\"middle\" text-anchor=\"middle\" font-size=\"14px\" font-family=\"Arial\">Ry(x5)</text></svg>"
      ],
      "text/plain": [
       "<cirq.contrib.svg.svg.SVGCircuit at 0x7fe6449960d0>"
      ]
     },
     "execution_count": 16,
     "metadata": {},
     "output_type": "execute_result"
    }
   ],
   "source": [
    "SVGCircuit(ttn_binary_classification_model._ttn_model_iris(cirq.GridQubit.rect(1, 4))[0])"
   ]
  },
  {
   "cell_type": "markdown",
   "metadata": {
    "id": "7WclT5cEwPpZ"
   },
   "source": [
    "### Training"
   ]
  },
  {
   "cell_type": "code",
   "execution_count": 17,
   "metadata": {
    "id": "8d3vZe3qwPpa"
   },
   "outputs": [
    {
     "name": "stdout",
     "output_type": "stream",
     "text": [
      "Model: \"sequential_1\"\n",
      "_________________________________________________________________\n",
      " Layer (type)                Output Shape              Param #   \n",
      "=================================================================\n",
      " pqc (PQC)                   (None, 3)                 6         \n",
      "                                                                 \n",
      " dense_2 (Dense)             (None, 3)                 12        \n",
      "                                                                 \n",
      " activation_1 (Activation)   (None, 3)                 0         \n",
      "                                                                 \n",
      "=================================================================\n",
      "Total params: 18\n",
      "Trainable params: 18\n",
      "Non-trainable params: 0\n",
      "_________________________________________________________________\n",
      "None\n",
      "('You must install pydot (`pip install pydot`) and install graphviz (see instructions at https://graphviz.gitlab.io/download/) ', 'for plot_model/model_to_dot to work.')\n",
      "Epoch 1/100\n",
      "135/135 [==============================] - 1s 2ms/step - loss: 0.9946 - accuracy: 0.5037\n",
      "Epoch 2/100\n",
      "135/135 [==============================] - 0s 2ms/step - loss: 0.9336 - accuracy: 0.6000\n",
      "Epoch 3/100\n",
      "135/135 [==============================] - 0s 3ms/step - loss: 0.8768 - accuracy: 0.7630\n",
      "Epoch 4/100\n",
      "135/135 [==============================] - 0s 2ms/step - loss: 0.8207 - accuracy: 0.8000\n",
      "Epoch 5/100\n",
      "135/135 [==============================] - 0s 2ms/step - loss: 0.7676 - accuracy: 0.8370\n",
      "Epoch 6/100\n",
      "135/135 [==============================] - 0s 3ms/step - loss: 0.7147 - accuracy: 0.8519\n",
      "Epoch 7/100\n",
      "135/135 [==============================] - 0s 2ms/step - loss: 0.6646 - accuracy: 0.8741\n",
      "Epoch 8/100\n",
      "135/135 [==============================] - 0s 2ms/step - loss: 0.6177 - accuracy: 0.8889\n",
      "Epoch 9/100\n",
      "135/135 [==============================] - 0s 3ms/step - loss: 0.5738 - accuracy: 0.9037\n",
      "Epoch 10/100\n",
      "135/135 [==============================] - 0s 2ms/step - loss: 0.5345 - accuracy: 0.9037\n",
      "Epoch 11/100\n",
      "135/135 [==============================] - 0s 2ms/step - loss: 0.4987 - accuracy: 0.8963\n",
      "Epoch 12/100\n",
      "135/135 [==============================] - 0s 2ms/step - loss: 0.4675 - accuracy: 0.8963\n",
      "Epoch 13/100\n",
      "135/135 [==============================] - 0s 3ms/step - loss: 0.4393 - accuracy: 0.8963\n",
      "Epoch 14/100\n",
      "135/135 [==============================] - 0s 2ms/step - loss: 0.4150 - accuracy: 0.9037\n",
      "Epoch 15/100\n",
      "135/135 [==============================] - 0s 2ms/step - loss: 0.3923 - accuracy: 0.9259\n",
      "Epoch 16/100\n",
      "135/135 [==============================] - 0s 3ms/step - loss: 0.3740 - accuracy: 0.9259\n",
      "Epoch 17/100\n",
      "135/135 [==============================] - 0s 2ms/step - loss: 0.3561 - accuracy: 0.9185\n",
      "Epoch 18/100\n",
      "135/135 [==============================] - 0s 2ms/step - loss: 0.3410 - accuracy: 0.9259\n",
      "Epoch 19/100\n",
      "135/135 [==============================] - 0s 3ms/step - loss: 0.3267 - accuracy: 0.9333\n",
      "Epoch 20/100\n",
      "135/135 [==============================] - 0s 2ms/step - loss: 0.3142 - accuracy: 0.9259\n",
      "Epoch 21/100\n",
      "135/135 [==============================] - 0s 2ms/step - loss: 0.3029 - accuracy: 0.9259\n",
      "Epoch 22/100\n",
      "135/135 [==============================] - 0s 3ms/step - loss: 0.2923 - accuracy: 0.9259\n",
      "Epoch 23/100\n",
      "135/135 [==============================] - 0s 2ms/step - loss: 0.2826 - accuracy: 0.9259\n",
      "Epoch 24/100\n",
      "135/135 [==============================] - 0s 2ms/step - loss: 0.2731 - accuracy: 0.9259\n",
      "Epoch 25/100\n",
      "135/135 [==============================] - 0s 3ms/step - loss: 0.2650 - accuracy: 0.9333\n",
      "Epoch 26/100\n",
      "135/135 [==============================] - 0s 2ms/step - loss: 0.2574 - accuracy: 0.9259\n",
      "Epoch 27/100\n",
      "135/135 [==============================] - 0s 2ms/step - loss: 0.2502 - accuracy: 0.9259\n",
      "Epoch 28/100\n",
      "135/135 [==============================] - 0s 3ms/step - loss: 0.2427 - accuracy: 0.9333\n",
      "Epoch 29/100\n",
      "135/135 [==============================] - 0s 3ms/step - loss: 0.2361 - accuracy: 0.9407\n",
      "Epoch 30/100\n",
      "135/135 [==============================] - 0s 2ms/step - loss: 0.2301 - accuracy: 0.9333\n",
      "Epoch 31/100\n",
      "135/135 [==============================] - 0s 2ms/step - loss: 0.2244 - accuracy: 0.9407\n",
      "Epoch 32/100\n",
      "135/135 [==============================] - 0s 3ms/step - loss: 0.2192 - accuracy: 0.9333\n",
      "Epoch 33/100\n",
      "135/135 [==============================] - 0s 2ms/step - loss: 0.2136 - accuracy: 0.9407\n",
      "Epoch 34/100\n",
      "135/135 [==============================] - 0s 2ms/step - loss: 0.2088 - accuracy: 0.9407\n",
      "Epoch 35/100\n",
      "135/135 [==============================] - 0s 3ms/step - loss: 0.2044 - accuracy: 0.9333\n",
      "Epoch 36/100\n",
      "135/135 [==============================] - 0s 2ms/step - loss: 0.1999 - accuracy: 0.9481\n",
      "Epoch 37/100\n",
      "135/135 [==============================] - 0s 2ms/step - loss: 0.1949 - accuracy: 0.9407\n",
      "Epoch 38/100\n",
      "135/135 [==============================] - 0s 3ms/step - loss: 0.1909 - accuracy: 0.9407\n",
      "Epoch 39/100\n",
      "135/135 [==============================] - 0s 2ms/step - loss: 0.1865 - accuracy: 0.9481\n",
      "Epoch 40/100\n",
      "135/135 [==============================] - 0s 2ms/step - loss: 0.1831 - accuracy: 0.9333\n",
      "Epoch 41/100\n",
      "135/135 [==============================] - 0s 3ms/step - loss: 0.1796 - accuracy: 0.9481\n",
      "Epoch 42/100\n",
      "135/135 [==============================] - 0s 2ms/step - loss: 0.1759 - accuracy: 0.9481\n",
      "Epoch 43/100\n",
      "135/135 [==============================] - 0s 2ms/step - loss: 0.1730 - accuracy: 0.9556\n",
      "Epoch 44/100\n",
      "135/135 [==============================] - 0s 3ms/step - loss: 0.1694 - accuracy: 0.9556\n",
      "Epoch 45/100\n",
      "135/135 [==============================] - 0s 2ms/step - loss: 0.1668 - accuracy: 0.9556\n",
      "Epoch 46/100\n",
      "135/135 [==============================] - 0s 2ms/step - loss: 0.1641 - accuracy: 0.9333\n",
      "Epoch 47/100\n",
      "135/135 [==============================] - 0s 2ms/step - loss: 0.1608 - accuracy: 0.9556\n",
      "Epoch 48/100\n",
      "135/135 [==============================] - 0s 2ms/step - loss: 0.1585 - accuracy: 0.9556\n",
      "Epoch 49/100\n",
      "135/135 [==============================] - 0s 3ms/step - loss: 0.1552 - accuracy: 0.9556\n",
      "Epoch 50/100\n",
      "135/135 [==============================] - 0s 2ms/step - loss: 0.1528 - accuracy: 0.9630\n",
      "Epoch 51/100\n",
      "135/135 [==============================] - 0s 2ms/step - loss: 0.1502 - accuracy: 0.9630\n",
      "Epoch 52/100\n",
      "135/135 [==============================] - 0s 3ms/step - loss: 0.1476 - accuracy: 0.9556\n",
      "Epoch 53/100\n",
      "135/135 [==============================] - 0s 2ms/step - loss: 0.1454 - accuracy: 0.9630\n",
      "Epoch 54/100\n",
      "135/135 [==============================] - 0s 2ms/step - loss: 0.1433 - accuracy: 0.9630\n",
      "Epoch 55/100\n",
      "135/135 [==============================] - 0s 3ms/step - loss: 0.1412 - accuracy: 0.9630\n",
      "Epoch 56/100\n",
      "135/135 [==============================] - 0s 2ms/step - loss: 0.1389 - accuracy: 0.9630\n",
      "Epoch 57/100\n",
      "135/135 [==============================] - 0s 2ms/step - loss: 0.1371 - accuracy: 0.9630\n",
      "Epoch 58/100\n",
      "135/135 [==============================] - 0s 3ms/step - loss: 0.1357 - accuracy: 0.9630\n",
      "Epoch 59/100\n",
      "135/135 [==============================] - 0s 3ms/step - loss: 0.1332 - accuracy: 0.9630\n",
      "Epoch 60/100\n",
      "135/135 [==============================] - 0s 2ms/step - loss: 0.1318 - accuracy: 0.9630\n",
      "Epoch 61/100\n",
      "135/135 [==============================] - 0s 2ms/step - loss: 0.1301 - accuracy: 0.9630\n",
      "Epoch 62/100\n",
      "135/135 [==============================] - 0s 3ms/step - loss: 0.1279 - accuracy: 0.9630\n",
      "Epoch 63/100\n",
      "135/135 [==============================] - 0s 2ms/step - loss: 0.1268 - accuracy: 0.9630\n",
      "Epoch 64/100\n",
      "135/135 [==============================] - 0s 2ms/step - loss: 0.1246 - accuracy: 0.9630\n",
      "Epoch 65/100\n",
      "135/135 [==============================] - 0s 3ms/step - loss: 0.1233 - accuracy: 0.9630\n",
      "Epoch 66/100\n",
      "135/135 [==============================] - 0s 2ms/step - loss: 0.1220 - accuracy: 0.9556\n",
      "Epoch 67/100\n",
      "135/135 [==============================] - 0s 2ms/step - loss: 0.1197 - accuracy: 0.9630\n",
      "Epoch 68/100\n",
      "135/135 [==============================] - 0s 3ms/step - loss: 0.1181 - accuracy: 0.9630\n",
      "Epoch 69/100\n",
      "135/135 [==============================] - 0s 2ms/step - loss: 0.1169 - accuracy: 0.9630\n",
      "Epoch 70/100\n",
      "135/135 [==============================] - 0s 2ms/step - loss: 0.1157 - accuracy: 0.9630\n",
      "Epoch 71/100\n",
      "135/135 [==============================] - 0s 3ms/step - loss: 0.1141 - accuracy: 0.9630\n",
      "Epoch 72/100\n",
      "135/135 [==============================] - 0s 2ms/step - loss: 0.1136 - accuracy: 0.9630\n",
      "Epoch 73/100\n",
      "135/135 [==============================] - 0s 2ms/step - loss: 0.1118 - accuracy: 0.9630\n",
      "Epoch 74/100\n",
      "135/135 [==============================] - 0s 3ms/step - loss: 0.1100 - accuracy: 0.9630\n",
      "Epoch 75/100\n",
      "135/135 [==============================] - 0s 3ms/step - loss: 0.1088 - accuracy: 0.9630\n",
      "Epoch 76/100\n",
      "135/135 [==============================] - 0s 2ms/step - loss: 0.1078 - accuracy: 0.9556\n",
      "Epoch 77/100\n",
      "135/135 [==============================] - 0s 2ms/step - loss: 0.1064 - accuracy: 0.9630\n",
      "Epoch 78/100\n",
      "135/135 [==============================] - 0s 2ms/step - loss: 0.1053 - accuracy: 0.9630\n",
      "Epoch 79/100\n",
      "135/135 [==============================] - 0s 3ms/step - loss: 0.1044 - accuracy: 0.9630\n",
      "Epoch 80/100\n",
      "135/135 [==============================] - 0s 2ms/step - loss: 0.1032 - accuracy: 0.9630\n",
      "Epoch 81/100\n",
      "135/135 [==============================] - 0s 2ms/step - loss: 0.1024 - accuracy: 0.9630\n",
      "Epoch 82/100\n",
      "135/135 [==============================] - 0s 3ms/step - loss: 0.1014 - accuracy: 0.9630\n",
      "Epoch 83/100\n",
      "135/135 [==============================] - 0s 2ms/step - loss: 0.1006 - accuracy: 0.9630\n",
      "Epoch 84/100\n",
      "135/135 [==============================] - 0s 2ms/step - loss: 0.0987 - accuracy: 0.9630\n",
      "Epoch 85/100\n",
      "135/135 [==============================] - 0s 3ms/step - loss: 0.0982 - accuracy: 0.9630\n",
      "Epoch 86/100\n",
      "135/135 [==============================] - 0s 2ms/step - loss: 0.0975 - accuracy: 0.9630\n",
      "Epoch 87/100\n",
      "135/135 [==============================] - 0s 2ms/step - loss: 0.0966 - accuracy: 0.9630\n",
      "Epoch 88/100\n",
      "135/135 [==============================] - 0s 3ms/step - loss: 0.0953 - accuracy: 0.9630\n",
      "Epoch 89/100\n",
      "135/135 [==============================] - 0s 2ms/step - loss: 0.0942 - accuracy: 0.9630\n",
      "Epoch 90/100\n",
      "135/135 [==============================] - 0s 3ms/step - loss: 0.0933 - accuracy: 0.9630\n",
      "Epoch 91/100\n",
      "135/135 [==============================] - 0s 2ms/step - loss: 0.0926 - accuracy: 0.9630\n",
      "Epoch 92/100\n",
      "135/135 [==============================] - 0s 3ms/step - loss: 0.0917 - accuracy: 0.9630\n",
      "Epoch 93/100\n",
      "135/135 [==============================] - 0s 2ms/step - loss: 0.0907 - accuracy: 0.9630\n",
      "Epoch 94/100\n",
      "135/135 [==============================] - 0s 2ms/step - loss: 0.0901 - accuracy: 0.9630\n",
      "Epoch 95/100\n",
      "135/135 [==============================] - 0s 3ms/step - loss: 0.0894 - accuracy: 0.9630\n",
      "Epoch 96/100\n",
      "135/135 [==============================] - 0s 2ms/step - loss: 0.0889 - accuracy: 0.9630\n",
      "Epoch 97/100\n",
      "135/135 [==============================] - 0s 2ms/step - loss: 0.0886 - accuracy: 0.9630\n",
      "Epoch 98/100\n",
      "135/135 [==============================] - 0s 3ms/step - loss: 0.0874 - accuracy: 0.9630\n",
      "Epoch 99/100\n",
      "135/135 [==============================] - 0s 2ms/step - loss: 0.0868 - accuracy: 0.9630\n",
      "Epoch 100/100\n",
      "135/135 [==============================] - 0s 2ms/step - loss: 0.0859 - accuracy: 0.9630\n"
     ]
    },
    {
     "data": {
      "image/png": "[encoded data removed]",
      "text/plain": [
       "<Figure size 640x480 with 1 Axes>"
      ]
     },
     "metadata": {},
     "output_type": "display_data"
    },
    {
     "name": "stdout",
     "output_type": "stream",
     "text": [
      "Final accuracy value: 0.9629629850387573\n",
      "Final loss value: 0.08585051447153091\n"
     ]
    }
   ],
   "source": [
    "ttn_binary_classification_model.iris_model_fit()"
   ]
  },
  {
   "cell_type": "code",
   "execution_count": 18,
   "metadata": {
    "id": "-RMg4nl6wPpa"
   },
   "outputs": [
    {
     "data": {
      "text/plain": [
       "95.64185839128994"
      ]
     },
     "execution_count": 18,
     "metadata": {},
     "output_type": "execute_result"
    }
   ],
   "source": [
    "ttn_binary_classification_model.iris_model_accuracy()"
   ]
  },
  {
   "cell_type": "markdown",
   "metadata": {
    "id": "UMSo2ZzPwPpa"
   },
   "source": [
    "### References:\n",
    "\n",
    "1. Grant, E., Benedetti, M., Cao, S., Hallam, A., Lockhart, J., Stojevic, V., Green, A.G. and Severini, S., 2018. Hierarchical quantum classifiers. npj Quantum Information, 4(1), pp.1-8.\n",
    "\n",
    "2. Fisher, R. A. The use of multiple measurements in taxonomic problems.Ann. Hum.Genet.7, 179–188 (1936)\n",
    "\n",
    "3. Vartiainen, J.J., Möttönen, M. and Salomaa, M.M., 2004. Efficient decomposition of quantum gates. Physical review letters, 92(17), p.177902."
   ]
  }
 ],
 "metadata": {
  "colab": {
   "provenance": []
  },
  "kernelspec": {
   "display_name": "Python 3 [Tensorflow]",
   "language": "python",
   "name": "python3_tensorflow_uorhf3"
  },
  "language_info": {
   "codemirror_mode": {
    "name": "ipython",
    "version": 3
   },
   "file_extension": ".py",
   "mimetype": "text/x-python",
   "name": "python",
   "nbconvert_exporter": "python",
   "pygments_lexer": "ipython3",
   "version": "3.9.12"
  }
 },
 "nbformat": 4,
 "nbformat_minor": 4
}
