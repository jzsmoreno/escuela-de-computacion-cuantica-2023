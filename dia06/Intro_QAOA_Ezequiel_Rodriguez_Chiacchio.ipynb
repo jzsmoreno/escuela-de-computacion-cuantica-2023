{
 "cells": [
  {
   "cell_type": "markdown",
   "id": "837782e1-77f6-4762-9ccc-1b494861e4d9",
   "metadata": {},
   "source": [
    "# Introducción a QAOA "
   ]
  },
  {
   "cell_type": "markdown",
   "id": "3f4ac807-dfd7-4e34-a723-e6741ec85c34",
   "metadata": {},
   "source": [
    "En este notebook demostramos como resolver un problema de tipo QUBO, en concreto Minimum Vertex Cover, utilizando OpenQAOA.\n",
    "\n",
    "La información sobre como instalar, utilizar y contribuir a OpenQAOA se encuentra en https://openqaoa.entropicalabs.com/\n",
    "\n",
    "El código se encuentra en GitHub: https://github.com/entropicalabs/openqaoa/tree/main\n",
    "\n",
    "Todo lo detallado aquí (y más!) se puede encontrar en los tutoriales de OpenQAOA: https://github.com/entropicalabs/openqaoa/tree/main/examples"
   ]
  },
  {
   "cell_type": "code",
   "execution_count": 1,
   "id": "1d812e9c-27d8-45d5-b8bb-3f392943583f",
   "metadata": {},
   "outputs": [],
   "source": [
    "# pip install openqaoa"
   ]
  },
  {
   "cell_type": "code",
   "execution_count": 2,
   "id": "d21c8dc6-a771-4cd5-bcc6-500e12ebe7c2",
   "metadata": {},
   "outputs": [],
   "source": [
    "import networkx as nx\n",
    "import matplotlib.pyplot as plt"
   ]
  },
  {
   "cell_type": "markdown",
   "id": "1ad11d56-4e47-4384-8369-3087f2c46422",
   "metadata": {},
   "source": [
    "### Definición del problema"
   ]
  },
  {
   "cell_type": "markdown",
   "id": "45cce6c4-bcf6-4ddd-8f3f-35ede76af561",
   "metadata": {},
   "source": [
    "El Minimum Vertex Cover consiste en, dado un grafo, encontrar el conjunto de vertices mas pequeños tal que cada arista sea incidente en al menos un vertice del conjunto. Su función de coste es:\n",
    "\n",
    "\\begin{equation}\n",
    "C(x) = B \\sum_{i} x_{i} + A \\sum_{(i,j) \\in E} (1-x_{i})(1-x_{j})\n",
    "\\end{equation}\n",
    "\n",
    "donde $A$ y $B$ son parametros de libre eleccion, $E$ es el conjunto de aristas del grafo y $x_{i} \\in \\{0,1\\}$ son variables binarias, en las que $x_{i} = 1$ significa que el vertice $i$ esta dentro del cover y $x_{i} = 0$ qwue esta fuera. "
   ]
  },
  {
   "cell_type": "code",
   "execution_count": 3,
   "id": "b8c784a9-6dfc-4b9e-af96-dc0f65b7476f",
   "metadata": {},
   "outputs": [
    {
     "data": {
      "image/png": "[encoded data removed]",
      "text/plain": [
       "<Figure size 288x288 with 1 Axes>"
      ]
     },
     "metadata": {},
     "output_type": "display_data"
    }
   ],
   "source": [
    "# Numero de variables\n",
    "N = 8\n",
    "\n",
    "G = nx.circulant_graph(N, [1])\n",
    "\n",
    "fig, ax = plt.subplots(1, 1, figsize=(4, 4))\n",
    "nx.draw(G)"
   ]
  },
  {
   "cell_type": "markdown",
   "id": "5997ec38-d8c6-47ec-88b3-2d434e4892d7",
   "metadata": {},
   "source": [
    "Utilizando este grafo podemos definir una instancia del problema MVC"
   ]
  },
  {
   "cell_type": "code",
   "execution_count": 4,
   "id": "dc2e00f0-68e3-4b9c-b70e-4e3b69852ad7",
   "metadata": {},
   "outputs": [],
   "source": [
    "# Del folder \"problems\" extraemos la clase MVC (hay muchas mas dentro!)\n",
    "from openqaoa.problems import MinimumVertexCover\n",
    "\n",
    "# Parametros de MVC\n",
    "B = 1\n",
    "A = 10\n",
    "\n",
    "# Definimos MVC y extraemos el QUBO\n",
    "mvc = MinimumVertexCover(G, field=B, penalty=A).qubo"
   ]
  },
  {
   "cell_type": "markdown",
   "id": "ef427e9e-2da4-4ea9-b56d-3d9c07e312dc",
   "metadata": {},
   "source": [
    "Para futura referencia utilizamos la funcion 'ground_state_hamiltonian' la cual extrae el estado y energia fundamentales de un Hamiltoniano"
   ]
  },
  {
   "cell_type": "code",
   "execution_count": 5,
   "id": "ff5d9d05-b719-4c91-b911-2c8d80436c42",
   "metadata": {},
   "outputs": [
    {
     "name": "stdout",
     "output_type": "stream",
     "text": [
      "Energia Minima: 4.0, Solucion: ['10101010', '01010101']\n"
     ]
    }
   ],
   "source": [
    "from openqaoa.utilities import ground_state_hamiltonian\n",
    "\n",
    "# Extraemos el Hamiltoniano de coste\n",
    "\n",
    "hamiltoniano = mvc.hamiltonian\n",
    "\n",
    "# Obtenemos sus propiedades\n",
    "energia, solucion = ground_state_hamiltonian(hamiltoniano)\n",
    "print(f\"Energia Minima: {energia}, Solucion: {solucion}\")"
   ]
  },
  {
   "cell_type": "markdown",
   "id": "7d8bca0d-834f-4fcd-aad0-fe5829db136d",
   "metadata": {},
   "source": [
    "Aunque aqui hemos utilizado un clase predefinida, es tambien posible definir un QUBO o un Hamiltoniano de coste manualmente, lo que nos permite diseñar cualquier problema para resolver con QAOA."
   ]
  },
  {
   "cell_type": "markdown",
   "id": "e0e961a9-2ec7-438f-ba9a-849cb1c80124",
   "metadata": {},
   "source": [
    "### Definición de nuestro QAOA ansatz"
   ]
  },
  {
   "cell_type": "code",
   "execution_count": 6,
   "id": "9d5d2e2e-afeb-419e-bf60-38c26a0ce656",
   "metadata": {},
   "outputs": [],
   "source": [
    "from openqaoa import QAOA\n",
    "\n",
    "# Instancia de QAOA\n",
    "q = QAOA()"
   ]
  },
  {
   "cell_type": "markdown",
   "id": "e8467133-cbfe-444a-856c-8aabab6618ee",
   "metadata": {},
   "source": [
    "Definimos las propiedades del circuito que implementa el QAOA Ansatz"
   ]
  },
  {
   "cell_type": "code",
   "execution_count": 7,
   "id": "1a4a6ecc-712e-4a2e-8a63-41ea6d5f5b92",
   "metadata": {},
   "outputs": [],
   "source": [
    "# Numero de capas\n",
    "p = 1\n",
    "\n",
    "# Tipo de parametrizacion (standard, fourier, extended, etc.)\n",
    "parametrizacion = \"standard\"\n",
    "\n",
    "# Tipo de Hamiltoniano de mezcla (pueden ser especificados manualmente!)\n",
    "mix = \"x\"\n",
    "\n",
    "# Tipo de inicializacion de los parametros variacionales (aleatoria o predefinida)\n",
    "inicializacion = \"ramp\"\n",
    "\n",
    "\n",
    "# Especificamos estas propiedas del circuito en nuestro QAOA\n",
    "q.set_circuit_properties(\n",
    "    p=p, param_type=parametrizacion, mixer_hamiltonian=mix, init_type=inicializacion\n",
    ")"
   ]
  },
  {
   "cell_type": "markdown",
   "id": "b869c05a-d659-472d-b34e-13783d0bc207",
   "metadata": {},
   "source": [
    "Definimos las propiedades de nuestro optimizador clasico"
   ]
  },
  {
   "cell_type": "code",
   "execution_count": 8,
   "id": "7289231e-2939-46db-b1a3-a0534090ce27",
   "metadata": {},
   "outputs": [],
   "source": [
    "# Metodo de optimizacion (incluye todos los de scipy!)\n",
    "optimizador = \"COBYLA\"\n",
    "\n",
    "# Numero maximo de iteraciones\n",
    "maxiter = 200\n",
    "\n",
    "# Tolerancia del optimizador\n",
    "tol = 0.001\n",
    "\n",
    "# Especificamos las propiedades de la optimizacion clasica - incluimos que se guarde la evolucion de los parametros y del valor esperado el Hamiltoniano de coste\n",
    "q.set_classical_optimizer(\n",
    "    method=optimizador, maxiter=maxiter, tol=tol, cost_progress=True, parameter_log=True\n",
    ")"
   ]
  },
  {
   "cell_type": "markdown",
   "id": "24a13835-a34c-4e04-a903-6667a12adfea",
   "metadata": {},
   "source": [
    "Antes de ejecutar nada, tenemos que especificar en que dispositivo queremos resolver este problema! Una computadora cuantica? Un simulador de Qiskit?...La ventaja de OpenQAOA es su capacidad de implementar QAOA en una gran variedad de proveedores (IBM, Rigetti, AWS, Azure, y tambien tiene su propio simulador, 'vectorized'). Aquí, como ejemplo, elegimos el shot simulator de Qiskit."
   ]
  },
  {
   "cell_type": "code",
   "execution_count": 9,
   "id": "19891aa1-be0d-419f-b072-1384bb03a579",
   "metadata": {},
   "outputs": [],
   "source": [
    "# Para especificar un dispsotivo importamos la funcion\n",
    "from openqaoa.backends import create_device\n",
    "\n",
    "# Definimos el shot simulator como dispositivo\n",
    "qiskit_shot = create_device(location=\"local\", name=\"qiskit.shot_simulator\")\n",
    "\n",
    "# Especificamos el dispositivo en nuestra instancia de QAOA\n",
    "q.set_device(qiskit_shot)\n",
    "\n",
    "# Propiedades\n",
    "n_shots = 1000\n",
    "\n",
    "q.set_backend_properties(n_shots=n_shots)"
   ]
  },
  {
   "cell_type": "markdown",
   "id": "b4d200fa-633b-442e-9000-933ea1b1dad0",
   "metadata": {},
   "source": [
    "Podemos chequear cuales son los dispositivos disponibles simplemente ejecutando:"
   ]
  },
  {
   "cell_type": "code",
   "execution_count": 10,
   "id": "7d6e2fe8-099c-49be-afa0-3a4d4c13d67c",
   "metadata": {},
   "outputs": [
    {
     "name": "stdout",
     "output_type": "stream",
     "text": [
      "Los dispositivos disponibles de manera local son ['qiskit.qasm_simulator', 'qiskit.shot_simulator', 'qiskit.statevector_simulator', 'vectorized', 'pyquil.statevector_simulator', 'analytical_simulator']\n",
      "\n",
      "Los dispositivos disponibles en remoto son [<class 'openqaoa_qiskit.backends.devices.DeviceQiskit'>, <class 'openqaoa_pyquil.backends.devices.DevicePyquil'>, <class 'openqaoa_braket.backends.devices.DeviceAWS'>, <class 'openqaoa_azure.backends.devices.DeviceAzure'>]\n"
     ]
    }
   ],
   "source": [
    "print(f\"Los dispositivos disponibles de manera local son {q.local_simulators}\\n\")\n",
    "print(f\"Los dispositivos disponibles en remoto son {q.cloud_provider}\")"
   ]
  },
  {
   "cell_type": "markdown",
   "id": "49a031a3-7fa4-4c5e-91bd-d9a2c94d7640",
   "metadata": {},
   "source": [
    "Ya tenemos todos los ingredientes necesarios para ejecutar QAOA! Antes de seguir, es necesario compilar nuestra instancia, lo cual nos permite chequear que todas las propiedades que hemos especificado son validas y podemos proceder a la ejecucion. En este paso es donde especificamos el problema QUBO que queremos resolver!"
   ]
  },
  {
   "cell_type": "code",
   "execution_count": 11,
   "id": "04e18fd9-c0ba-4a5e-9bdd-0df96b5bda4b",
   "metadata": {},
   "outputs": [],
   "source": [
    "q.compile(mvc)"
   ]
  },
  {
   "cell_type": "markdown",
   "id": "aca80a5b-bb7f-46fb-8e48-1b625b8d7a21",
   "metadata": {},
   "source": [
    "### Ejecucion de QAOA"
   ]
  },
  {
   "cell_type": "code",
   "execution_count": 12,
   "id": "b0006843-8534-4b2e-a09b-6c2d99598272",
   "metadata": {},
   "outputs": [],
   "source": [
    "q.optimize()"
   ]
  },
  {
   "cell_type": "markdown",
   "id": "da6ae602-c77e-4069-8e65-27f52c071c62",
   "metadata": {},
   "source": [
    "Asi de simple! Ahora veamos cual es el resultado que hemos obtenido"
   ]
  },
  {
   "cell_type": "code",
   "execution_count": 13,
   "id": "f8d9c4bc-5805-4d9d-adff-e0e104d28b9e",
   "metadata": {},
   "outputs": [],
   "source": [
    "# Extraemos el resultado\n",
    "result = q.result"
   ]
  },
  {
   "cell_type": "code",
   "execution_count": 14,
   "id": "330ebc98-636e-4129-99d0-7a5bd972594a",
   "metadata": {},
   "outputs": [
    {
     "name": "stdout",
     "output_type": "stream",
     "text": [
      " El resultado mas probable es {'solutions_bitstrings': ['10101010'], 'bitstring_energy': 4.0}\n"
     ]
    }
   ],
   "source": [
    "# Resultado mas probable\n",
    "print(f\" El resultado mas probable es {result.most_probable_states}\")"
   ]
  },
  {
   "cell_type": "code",
   "execution_count": 15,
   "id": "b367d301-67dc-4839-ab4a-02ca0e164295",
   "metadata": {},
   "outputs": [
    {
     "name": "stdout",
     "output_type": "stream",
     "text": [
      "states kept: 20\n"
     ]
    },
    {
     "data": {
      "image/png": "[encoded data removed]",
      "text/plain": [
       "<Figure size 576x576 with 1 Axes>"
      ]
     },
     "metadata": {
      "needs_background": "light"
     },
     "output_type": "display_data"
    }
   ],
   "source": [
    "result.plot_probabilities(figsize=(8, 8), n_states_to_keep=20)"
   ]
  },
  {
   "cell_type": "code",
   "execution_count": 16,
   "id": "5ec293cc-8e01-4bff-ac0c-74c5c6f278dc",
   "metadata": {},
   "outputs": [
    {
     "data": {
      "image/png": "[encoded data removed]",
      "text/plain": [
       "<Figure size 360x360 with 1 Axes>"
      ]
     },
     "metadata": {
      "needs_background": "light"
     },
     "output_type": "display_data"
    }
   ],
   "source": [
    "# Evolucion de del valor esperado del Hamiltoniano de coste - Aqui la etiqueta \"cost\" se refiere a <H>\n",
    "result.plot_cost(figsize=(5, 5))"
   ]
  },
  {
   "cell_type": "markdown",
   "id": "08b627f5-4ff6-4d63-8352-e08050a31aee",
   "metadata": {},
   "source": [
    "## A experimentar!"
   ]
  },
  {
   "cell_type": "markdown",
   "id": "e866a5d0-7750-4864-9c4d-2de76016a3e3",
   "metadata": {},
   "source": [
    "Prueba cambiar cualquier otro parametro y observa como cambia el resultado"
   ]
  },
  {
   "cell_type": "code",
   "execution_count": 17,
   "id": "91062f5e-4fc7-467b-8fe5-0d34eaf2c26b",
   "metadata": {},
   "outputs": [
    {
     "name": "stdout",
     "output_type": "stream",
     "text": [
      "Energia Minima: 8.0, Solucion: ['10110100101110']\n"
     ]
    },
    {
     "data": {
      "image/png": "[encoded data removed]",
      "text/plain": [
       "<Figure size 216x144 with 1 Axes>"
      ]
     },
     "metadata": {},
     "output_type": "display_data"
    }
   ],
   "source": [
    "N = 14\n",
    "# G = nx.complete_graph(N)\n",
    "# G = nx.circulant_graph(N,[1])\n",
    "# G = nx.random_regular_graph(d = 3, n = N, seed = 42)\n",
    "G = nx.erdos_renyi_graph(n=N, p=0.25, seed=42)\n",
    "\n",
    "mvc = MinimumVertexCover(G, field=1, penalty=10).qubo\n",
    "hamiltoniano = mvc.hamiltonian\n",
    "\n",
    "energia, solucion = ground_state_hamiltonian(hamiltoniano)\n",
    "print(f\"Energia Minima: {energia}, Solucion: {solucion}\")\n",
    "\n",
    "fig, ax = plt.subplots(1, 1, figsize=(3, 2))\n",
    "nx.draw(G)"
   ]
  },
  {
   "cell_type": "code",
   "execution_count": 18,
   "id": "6a0838ef-6b7a-44b2-9696-b0ab2e229925",
   "metadata": {},
   "outputs": [],
   "source": [
    "# Creamos un QAOA\n",
    "q = QAOA()\n",
    "\n",
    "# Propiedades del circuito\n",
    "q.set_circuit_properties(p=10, param_type=\"standard\", mixer_hamiltonian=\"x\", init_type=\"ramp\")\n",
    "\n",
    "# Propiedades del optimizador\n",
    "q.set_classical_optimizer(\n",
    "    method=\"cobyla\", maxiter=200, tol=0.001, cost_progress=True, parameter_log=True\n",
    ")\n",
    "\n",
    "# Propiedades del dispositivo\n",
    "oq_vectorized = create_device(location=\"local\", name=\"vectorized\")\n",
    "q.set_device(oq_vectorized)\n",
    "\n",
    "\n",
    "q.compile(mvc)\n",
    "q.optimize()\n",
    "\n",
    "result = q.result\n",
    "resultado_mas_probable = result.most_probable_states\n",
    "estados_mas_probables = resultado_mas_probable[\"solutions_bitstrings\"]\n",
    "energia_mas_probable = resultado_mas_probable[\"bitstring_energy\"]"
   ]
  },
  {
   "cell_type": "code",
   "execution_count": 19,
   "id": "ce09a140-8e30-4a23-ba43-ce58fb1d7954",
   "metadata": {},
   "outputs": [
    {
     "name": "stdout",
     "output_type": "stream",
     "text": [
      " El resultado mas probable es {'solutions_bitstrings': ['10110100101110'], 'bitstring_energy': 8.0}\n",
      "\n",
      "states kept: 10\n"
     ]
    },
    {
     "data": {
      "image/png": "[encoded data removed]",
      "text/plain": [
       "<Figure size 576x576 with 1 Axes>"
      ]
     },
     "metadata": {
      "needs_background": "light"
     },
     "output_type": "display_data"
    }
   ],
   "source": [
    "print(f\" El resultado mas probable es {result.most_probable_states}\\n\")\n",
    "\n",
    "result.plot_probabilities(figsize=(8, 8), n_states_to_keep=10)"
   ]
  },
  {
   "cell_type": "markdown",
   "id": "1c04dc63-6be8-439e-bde4-f5ca8458424c",
   "metadata": {},
   "source": [
    "## Ideas para seguir explorando"
   ]
  },
  {
   "cell_type": "markdown",
   "id": "961c7b64-09bd-4b04-8105-f74af463f4ec",
   "metadata": {},
   "source": [
    "(La clave es nunca dejar de hacerse preguntas y no temer en explorar a fondo lo que nos pique la curiosidad!)"
   ]
  },
  {
   "cell_type": "markdown",
   "id": "a7fd5cc4-afdf-4c3b-8401-6a8f31df4213",
   "metadata": {},
   "source": [
    "### El ansatz\n",
    "* Que pasa cuando incremento el numero de capas?\n",
    "* Diferentes parametrizaciones: 'fourier', 'extended' - En que se diferencian de la estandard?\n",
    "\n",
    "### El proceso de optimizacion\n",
    "* Que resultados obtengo comparando distintos metodos de optimizacion? Por ejemplo, COBYLA, Nelder-Mead, Gradient Descent\n",
    "* Que impacto tiene cambiar el numero de pasos y la tolerancia?\n",
    "\n",
    "### Dispositivos\n",
    "\n",
    "* Como se compara el performance de los shot simulators vs state vector simulators?\n",
    "* Como puedo incluir un modelo de ruido? (Pista: buscar en los tutoriales de OpenQAOA)\n",
    "* Acceder a uno de los dispositivos de Open Plan de IBM y ejecutar QAOA\n",
    "\n",
    "### Variantes\n",
    "\n",
    "Otro de los aspectos interesantes de OpenQAOA es que esta implementada la variante Recursive QAOA, en el tutorial numero 9 puedes encontrar un resumen sobre esta tecnica y como resolver problemas QUBO al igual que en este tutorial.\n",
    "\n",
    "* Cuales son las principales diferencias entre QAOA y RQAOA? Especialmente, en que se diferencian los outputs de cada algoritmo?\n",
    "* Cual de los dos es mas eficiente?\n",
    "* Cual devuelve el mejor resultado?\n",
    "\n",
    "\n",
    "### Desafios y contribucion\n",
    "\n",
    "En la web de OpenQAOA encontraras mas ideas con las que seguir aprendiendo y, ademas, ciertos puntos en los que puedes empezar a contribuir\n",
    "\n",
    "* Implementar otras variantes de QAOA (por ejemplo, ADAPT-QAOA)\n",
    "* Añadir nuevos metodos para procesar el resultado\n",
    "* Hacer OpenQAOA compatible con Qiskit Runtime\n",
    "* Mucho mas en https://openqaoa.entropicalabs.com/challenges/intro/"
   ]
  },
  {
   "cell_type": "code",
   "execution_count": null,
   "id": "b20c5fe5-f1af-433a-a2c0-cb8829d74ebd",
   "metadata": {},
   "outputs": [],
   "source": []
  }
 ],
 "metadata": {
  "kernelspec": {
   "display_name": "mitiq-qaoa",
   "language": "python",
   "name": "mitiq-qaoa"
  },
  "language_info": {
   "codemirror_mode": {
    "name": "ipython",
    "version": 3
   },
   "file_extension": ".py",
   "mimetype": "text/x-python",
   "name": "python",
   "nbconvert_exporter": "python",
   "pygments_lexer": "ipython3",
   "version": "3.8.8"
  }
 },
 "nbformat": 4,
 "nbformat_minor": 5
}
