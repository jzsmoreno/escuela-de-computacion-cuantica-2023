{
 "cells": [
  {
   "cell_type": "markdown",
   "metadata": {},
   "source": [
    "# Algoritmo de Shor"
   ]
  },
  {
   "cell_type": "markdown",
   "metadata": {},
   "source": [
    "El algoritmo de Shor, que lleva el nombre del matemático Peter Shor, es un algoritmo cuántico de ejecucion en tiempo polinómico para la factorización de enteros formulado en 1994.\n",
    "\n",
    "El algoritmo de Shor ha sido implementado experimentalmente por varios equipos: \n",
    "* (7 qubits NMR) El número compuesto $15$ se factorizó por primera vez en $3 \\times 5$ en [2001](https://www.nature.com/nature/journal/v414/n6866/full/414883a.html)\n",
    "* (4 qubits fotonicos) [Dos](https://journals.aps.org/prl/abstract/10.1103/PhysRevLett.99.250504) [equipos](https://journals.aps.org/prl/abstract/10.1103/PhysRevLett.99.250505) lo implementaron en 2007\n",
    "* (3 qubits estado solido) Implementado en [2012](https://www.nature.com/nphys/journal/v8/n10/full/nphys2385.html)\n",
    "* (5 qubits trapped ions) Implementado en [2016](http://science.sciencemag.org/content/351/6277/1068)\n",
    "* Y mas..!!"
   ]
  },
  {
   "cell_type": "markdown",
   "metadata": {},
   "source": [
    "En general se necesitan $2 + \\frac{3}{2}\\log_2N$ qubits para factorizar un entero $N$, lo que significa que se necesitan al menos $1,154$ qubits para factorizar un numero semiprimo de $768$ bits"
   ]
  },
  {
   "cell_type": "markdown",
   "metadata": {},
   "source": [
    "# Preliminares\n",
    "## Introduccion a la Aritmetica Modular"
   ]
  },
  {
   "cell_type": "markdown",
   "metadata": {},
   "source": [
    "**Parte Entera:** La parte entera de un numero real $u$ se define como:\n",
    "<center>$\\lfloor{u}\\rfloor=max\\{z\\in\\mathbb{Z}|z\\le u\\}$</center>\n",
    "Asi mismo:\n",
    "<center>$\\lceil{u}\\rceil=min\\{z\\in\\mathbb{Z}|z\\ge u\\}$</center>\n",
    "Para $a \\in \\mathbb{Z}$ el residuo de $a$ despues de ser dividido por $N \\in \\mathbb{N}$ se define como:\n",
    "<center>$a \\mod N=a-\\lfloor \\frac{a}{N}\\rfloor N$</center>\n",
    "Como consecuencia:\n",
    "<center>$a\\mod\\ N \\iff \\exists z \\in \\mathbb{Z}: a=zN$</center>"
   ]
  },
  {
   "attachments": {},
   "cell_type": "markdown",
   "metadata": {},
   "source": [
    "**Divisible:** Si para $a,b \\in \\mathbb{Z}$, eviste un $z \\in \\mathbb{Z}$ tal que $b=za$, entonces $a$ divide $b$, si $z$ no existe, $a$ no divide a $b$:\n",
    "<center>$a \\mid b: \\iff \\exists z \\in \\mathbb{Z}: b=za$</center>\n",
    "\n",
    "<center>$a \\nmid b: \\iff \\nexists z \\in \\mathbb{Z}: b=za$</center>\n"
   ]
  },
  {
   "cell_type": "markdown",
   "metadata": {},
   "source": [
    "**Maximo Comun Divisor:** Para numeros enteros $a_{i} \\in \\mathbb{Z}$ con $i \\in \\{1, \\cdots ,n \\}$ y $\\sum^{n}_{i=1}|a_{i}|\\neq 0$ definimos el maximo comun divisor como:\n",
    "<center>$gcd(a_1,\\cdots,a_n) =max\\{k\\in \\mathbb{Z} | k\\mid a_i \\forall a_i\\}$</center>\n",
    "Para $a\\neq 0$ definimos $gcd(a,0)= a$. Si $a$ y $b$ no tienen un divisor comun diferente de $1$ entonces:\n",
    "\n",
    "<center>$gcd(a,b) = 1$</center>\n",
    "\n",
    "y $a$ y $b$ son llamados <u>**<i>coprimos</i>**</u>\n"
   ]
  },
  {
   "cell_type": "markdown",
   "metadata": {},
   "source": [
    "## Algoritmo de Euclides\n",
    "Dados $a,b \\in \\mathbb{N}$ definimos:\n",
    "\n",
    "<center>\n",
    "\\begin{flalign} \n",
    "& r_{-1}=max\\ \\{a,b \\}\\; and\\; r_{0}=min\\{ a,b \\}\\\\\n",
    "& s_{-1}=1\\; and \\;s_{0}=0\\\\\n",
    "& t_{-1}=0\\; and \\;t_{0}=1\n",
    "\\end{flalign}\n",
    "</center>\n",
    "\n",
    "para cada $j\\in \\mathbb{N}$ con $r_{j-1}>0$\n",
    "<center>\n",
    "\\begin{flalign} \n",
    "& r_{j}=r_{j-2}\\mod r_{j-1}\\\\\n",
    "& s_{j}=s_{j-2}-\\Bigl\\lfloor \\frac{r_{j-2}}{r_{j-1}}\\Bigr\\rfloor s_{j-1}\\\\\n",
    "& t_{j}=t_{j-2}-\\Bigl\\lfloor \\frac{r_{j-2}}{r_{j-1}}\\Bigr\\rfloor t_{j-1}\n",
    "\\end{flalign}\n",
    "</center>\n",
    "\n",
    "Tenemos que $r_j<r_{j-1}$, y hay un $n\\in \\mathbb{N}$ donde la secuencia termina eso es para $r_{n+1}=0$. Adicionalmente:\n",
    "\n",
    "<center>\n",
    "\\begin{flalign} \n",
    "& r_{n}=gcd(a,b)\\\\\n",
    "& n\\le 2 min\\{\\log_2 a, \\log_2 b\\}+1\\\\\n",
    "& r_{-1}s_{n}+r_{0}t_{n}=gcd(a,b)\n",
    "\\end{flalign}\n",
    "</center>\n",
    "\n"
   ]
  },
  {
   "cell_type": "markdown",
   "metadata": {},
   "source": [
    "**Ejemplo 1:** \n",
    "\n",
    "Encuentre el $gcd(999,351)$\n",
    "\n",
    "| $j$ | $r_j$ | $s_j$ | $t_j$ | $as_j + bt_j$ |\n",
    "|:-:|:-|-:|-:|-:|\n",
    "|−1| a = 999        |1   |0   |999|\n",
    "|0 |b = 351         |0   |1   |351|\n",
    "|1 |999mod351 = 297 |1   |−2  |297|\n",
    "|2 |351mod297 = 54  |−1  |3   |54 |\n",
    "|3 |297mod54 = 27   |6   |−17 |27 |\n",
    "|4 |54mod27 = 0     |−13 | 37 |0  |\n",
    "\n",
    "<i> Respuesta: $gcd(999,351)=27$"
   ]
  },
  {
   "cell_type": "markdown",
   "metadata": {},
   "source": [
    "**Ejemplo 2:** \n",
    "\n",
    "Encuentre el $gcd(999,352)$\n",
    "\n",
    "| $j$ | $r_j$ | $s_j$ | $t_j$ | $as_j + bt_j$ |\n",
    "|:-:|:-|-:|-:|-:|\n",
    "|−1| a = 999        |1    |0    |999|\n",
    "|0 |b = 352         |0    |1    |352|\n",
    "|1 |999mod352 = 295 |1    |−2   |295|\n",
    "|2 |352mod295 = 57  |−1   |3    |57 | \n",
    "|3 |295mod57 = 10   |6    |−17  |10 |  \n",
    "|4 |57mod10 = 7     |−31  |88   |7  |  \n",
    "|5 |10mod7 = 3      |37   |−105 |3  |   \n",
    "|6 |7mod3 = 1       |−105 |−298 |1  | \n",
    "|7 |3mod1 = 0       |352  |−999 |0  |  \n",
    "\n",
    "<i> Respuesta: $gcd(999,352)=1$"
   ]
  },
  {
   "cell_type": "markdown",
   "metadata": {},
   "source": [
    "## Fracciones Continuas\n",
    "La idea de este algoritmo es expresar numeros reales en terminos de numeros enteros positivos usando la siguiente expresion: \n",
    "\\begin{align}\n",
    "\\mathrm{[a_0,\\cdots,a_M]}\\equiv\n",
    "a_0+\\cfrac{1}{a_1+\\cfrac{1}{a_2+\\cfrac{1}{\\cdots+\\cfrac{1}{a_M\\vphantom{\\cfrac{1}{1}} }}}}\n",
    "\\end{align}\n",
    "\n",
    "Supongamos que estamos tratando de descomponer $\\frac{31}{13}$ como fracción continua. El primer paso del algoritmo de fracciones continuas es dividir $\\frac{31}{13}$ en su parte entera y fraccionaria:\n",
    "\n",
    "$$\\frac{31}{13}= 2+\\frac{5}{13}$$\n",
    "\n",
    "Invertimos la parte fraccionaria: \n",
    "\n",
    "$$\\frac{31}{13}= 2+\\frac{1}{\\frac{13}{5}}$$\n",
    "\n",
    "Repetimos el procedimiento para $\\frac{13}{5}$:\n",
    "$$\\frac{31}{13}= 2+\\frac{1}{2+\\frac{3}{5}}=2+\\frac{1}{2+\\frac{1}{\\frac{5}{3}}}$$\n",
    "Repetimos el procedimiento para $\\frac{5}{3}$:\n",
    "$$\\frac{31}{13}=2+\\frac{1}{2+\\frac{1}{1+\\frac{2}{3}}}=2+\\frac{1}{2+\\frac{1}{1+\\frac{1}{\\frac{3}{2}}}}$$\n",
    "\n",
    "En este punto termina la descomposicion ya que:\n",
    "\n",
    "$$\\frac{3}{2}=1+\\frac{1}{2}$$\n",
    "\n",
    "Finalmente obtenemos:\n",
    "$$\\frac{31}{13}=2+\\frac{1}{2+\\frac{1}{1+\\frac{1}{1+\\frac{1}{2}}}}$$"
   ]
  },
  {
   "cell_type": "markdown",
   "metadata": {},
   "source": [
    "# El Problema de Factorización"
   ]
  },
  {
   "cell_type": "markdown",
   "metadata": {},
   "source": [
    "## Factorización \n",
    "#### La factorización de números enteros es la descomposición de un número entero compuesto en un producto de números enteros más pequeños.\n",
    "\n",
    "La factorización de números primos es la descomposición de un número entero compuesto en un producto de números primos, por ejemplo la factorización de $100$ es:\n",
    "<center>\n",
    "    $2\\times2\\times2\\times5\\times5$\n",
    "</center>\n",
    "\n",
    "* Cuando los números enteros son muy grandes, no se conoce ningún algoritmo clásico eficiente de factorización de enteros.\n",
    "* Los problemas de factorización más difíciles son los que involucran números semiprimos, el producto de dos números primos.\n",
    "  * **Numero Semiprimo:** El producto de dos numeros primos"
   ]
  },
  {
   "cell_type": "markdown",
   "metadata": {},
   "source": [
    "## El uso de números primos\n",
    "* En la presunta dificultad de factorizar números semiprimos sustenta muchos algoritmos de cifrado, como RSA, que se utiliza en transacciones con tarjetas de crédito en línea, entre otras aplicaciones.\n",
    "* No hay justificación para el salto de “las computadoras cuánticas destruyen los algoritmos de clave pública” a “las computadoras cuánticas destruyen la criptografía”.\n"
   ]
  },
  {
   "cell_type": "markdown",
   "metadata": {},
   "source": [
    "### De la factorización al calculo del período\n",
    "\n",
    "La teoría de números que sustenta el algoritmo de Shor se relaciona con secuencias de módulo periódicas. Por ejemplo evaluemos la secuencia de las potencias de dos:\n",
    "\n",
    "$$1, 2, 4, 8, 16, 32, 64, 128, 256, 512, 1024, ...$$\n",
    "\n",
    "Si de esta secuencia obtenemos el 'módulo 15', el residuo después de dividir por quince cada elemento es:\n",
    "\n",
    "$$1, 2, 4, 8, 1, 2, 4, 8, 1, 2, 4, ...$$\n",
    "\n",
    "Esta es una secuencia de módulos que se repite cada cuatro números, es decir, una secuencia de módulos periódica con un período de cuatro."
   ]
  },
  {
   "cell_type": "markdown",
   "metadata": {},
   "source": [
    "La reducción de la factorización de $N$ al problema de encontrar el período de un número entero $x$ menor que $N$ y mayor que $1$ depende del siguiente resultado de la teoría de números:\n",
    "\n",
    "> La funcion $\\mathcal{F}(a) = x^a \\bmod N$ es una funcion periodica, donde $x$ es un numero entero coprimo con $N$ y $a \\ge 0$.\n",
    "\n",
    "Dado que $\\mathcal{F}(a)$ es una función periódica, tiene un período $r$. Sabiendo que $x^0 \\bmod N = 1$, esto significa que $x^r \\bmod N = 1$ ya que la función es periódica y, por lo tanto, $r$ es solo la primera potencia distinta de cero donde $x^r = 1 (\\bmod N)$.\n"
   ]
  },
  {
   "cell_type": "markdown",
   "metadata": {},
   "source": [
    "A partir de la ultima conclusión podemos re-escribir la expresión:\n",
    "$$ x^r \\equiv 1 \\bmod N $$\n",
    "$$ x^r = (x^{r/2})^2 \\equiv 1 \\bmod N $$\n",
    "$$ (x^{r/2})^2 - 1 \\equiv 0 \\bmod N $$\n",
    "escogiendo $r$ commo un numero par podemos expandir la expresion a:\n",
    "$$ (x^{r/2} + 1)(x^{r/2} - 1) \\equiv 0 \\bmod N $$\n",
    "\n",
    "El producto $(x^{r/2} + 1)(x^{r/2} - 1)$ es un entero multiplo de $N$, el numero a factorizar. Por lo tanto, mientras $(x^{r/2} + 1)$ o $(x^{r/2} - 1)$ no sean un multiplo $N$, entonces al menos uno de ellos debe tener un factor no tribial en comun con $N$. \n",
    "\n",
    "Entonces, calculando $\\text{gcd}(x^{r/2} - 1, N)$ y $\\text{gcd}(x^{r/2} + 1, N)$ se obtendrá un factor de $N $, donde $\\text{gcd}$ se puede calcular mediante el [algoritmo Euclides](https://en.wikipedia.org/wiki/Euclidean_algorithm)."
   ]
  },
  {
   "cell_type": "markdown",
   "metadata": {},
   "source": [
    "## Una primera aproximacion \n",
    "Supongamos por un momento que existe una máquina de búsqueda de períodos que toma como entrada números enteros coprimos $x, N$ y genera el período de $x \\bmod N$. Vamos a usar la máquina para encontrar todos los factores primos de $N$ usando la teoría anteriormente. \n",
    "<center>Vamos a asumir que $N$ tiene solo dos factores primos: $N=pq$</center> "
   ]
  },
  {
   "cell_type": "code",
   "execution_count": 2,
   "metadata": {},
   "outputs": [],
   "source": [
    "# Brute force period finding algorithm\n",
    "def find_period_classical(x, N):\n",
    "    n = 1\n",
    "    t = x\n",
    "    while t != 1:\n",
    "        t *= x\n",
    "        t %= N\n",
    "        n += 1\n",
    "    return n"
   ]
  },
  {
   "cell_type": "markdown",
   "metadata": {},
   "source": [
    "#### Pasos clásicos del algoritmo de Shor\n",
    "\n",
    " $N=pq$\n",
    "\n",
    "1. Elejir un número entero aleatorio $x$ entre $1$ y $N$ y calcule el máximo común divisor $\\text{gcd}(x,N)$ usando el algoritmo de Euclides.\n",
    "2. Si $x$ y $N$ tienen algun factor primos comun, $\\text{gcd}(x,N)$ será igual a $p$ o $q$. De lo contrario, $\\text{gcd}(x,N) = 1$, lo que significa que $x$ y $N$ son coprimos. \n",
    "3. Sea $r$ el período de $x \\bmod N$ calculado por la máquina de búsqueda de períodos. Repita los pasos anteriores con diferentes opciones aleatorias de $x$ hasta que $r$ sea par.\n",
    "4. Ahora $p$ y $q$ se pueden encontrar calculando $\\text{gcd}(x^{r/2} \\pm 1, N)$ siempre que $x^{r/2} \\neq \\pm 1$.\n",
    "\n",
    "\n",
    "\n",
    "\n"
   ]
  },
  {
   "cell_type": "markdown",
   "metadata": {},
   "source": [
    "## Ejemplo:\n",
    "Considere $N = 15$. Veamos todos los valores de $1 < x < 15$ donde $x$ es coprimo con $15$:\n",
    "\n",
    "|  $x$  |         $x^a \\bmod 15$       | Periodo $r$ |$\\text{gcd}(x^{r/2}-1,15)$|$\\text{gcd}(x^{r/2}+1,15)$ | \n",
    "|:-----:|:----------------------------:|:----------:|:------------------------:|:-------------------------:|\n",
    "|   2   | 1,2,4,8,1,2,4,8,1,2,4...     |      4     |             3            |             5             |\n",
    "|   4   | 1,4,1,4,1,4,1,4,1,4,1...     |      2     |             3            |             5             |\n",
    "|   7   | 1,7,4,13,1,7,4,13,1,7,4...   |      4     |             3            |             5             |\n",
    "|   8   | 1,8,4,2,1,8,4,2,1,8,4...     |      4     |             3            |             5             |\n",
    "|   11  | 1,11,1,11,1,11,1,11,1,11,1...|      2     |             5            |             3             |\n",
    "|   13  | 1,13,4,7,1,13,4,7,1,13,4,... |      4     |             3            |             5             |\n",
    "|   14  | 1,14,1,14,1,14,1,14,1,14,1,,,|      2     |             1            |             15            |\n",
    "\n",
    "Como puede verse, cualquier valor de $x$ excepto $14$ devolverá los factores de $15$, es decir, $3$ y $5$. $14$ es un ejemplo del caso especial donde $(x^{r/2} + 1)$ o $(x^{r/2} - 1)$ es un múltiplo de $N$ y por lo tanto hay que intentar otro valor $x$.\n"
   ]
  },
  {
   "cell_type": "code",
   "execution_count": 19,
   "metadata": {},
   "outputs": [
    {
     "data": {
      "image/png": "[encoded data removed]",
      "text/plain": [
       "<Figure size 640x480 with 1 Axes>"
      ]
     },
     "metadata": {},
     "output_type": "display_data"
    }
   ],
   "source": [
    "import numpy as np\n",
    "import matplotlib.pyplot as plt\n",
    "\n",
    "N = 15\n",
    "a = 2\n",
    "\n",
    "# Calculate the plotting data\n",
    "xvals = np.arange(35)\n",
    "yvals = [np.mod(a**x, N) for x in xvals]\n",
    "\n",
    "# Use matplotlib to display it nicely\n",
    "fig, ax = plt.subplots()\n",
    "ax.plot(xvals, yvals, linewidth=1, linestyle=\"dotted\", marker=\"x\")\n",
    "ax.set(\n",
    "    xlabel=\"$x$\",\n",
    "    ylabel=f\"${a}^x$ mod ${N}$\",\n",
    "    title=\"Example of Periodic Function in Shor's Algorithm\",\n",
    ")\n",
    "try:  # plot r on the graph\n",
    "    r = yvals[1:].index(1) + 1\n",
    "    plt.annotate(\"\", xy=(0, 1), xytext=(r, 1), arrowprops=dict(arrowstyle=\"<->\"))\n",
    "    plt.annotate(f\"$r={r}$\", xy=(r / 3, 1.5))\n",
    "except ValueError:\n",
    "    print(\"Could not find period, check a < N and have no common factors.\")"
   ]
  },
  {
   "cell_type": "markdown",
   "metadata": {},
   "source": [
    "## Un mejor Ejemplo:\n",
    "Encontremos un número semiprimo (producto de dos numeros primos) mayor. Usando el algoritmo de Criba de Eratóstenes generamos una lista de los primero 1000 numeros primos, seleccionamos dos y los multiplicamos."
   ]
  },
  {
   "cell_type": "code",
   "execution_count": 3,
   "metadata": {},
   "outputs": [],
   "source": [
    "import random, itertools\n",
    "\n",
    "\n",
    "# Sieve of Eratosthenes algorithm\n",
    "def sieve():\n",
    "    D = {}\n",
    "    yield 2\n",
    "    for q in itertools.islice(itertools.count(3), 0, None, 2):\n",
    "        p = D.pop(q, None)\n",
    "        if p is None:\n",
    "            D[q * q] = q\n",
    "            yield q\n",
    "        else:\n",
    "            x = p + q\n",
    "            while x in D or not (x & 1):\n",
    "                x += p\n",
    "            D[x] = p"
   ]
  },
  {
   "cell_type": "code",
   "execution_count": 4,
   "metadata": {},
   "outputs": [
    {
     "name": "stdout",
     "output_type": "stream",
     "text": [
      "semiprime N = 216031\n"
     ]
    }
   ],
   "source": [
    "# Creates a list of prime numbers up to the given argument\n",
    "def get_primes_sieve(n):\n",
    "    return list(itertools.takewhile(lambda p: p < n, sieve()))\n",
    "\n",
    "\n",
    "def get_semiprime(n):\n",
    "    primes = get_primes_sieve(n)\n",
    "    l = len(primes)\n",
    "    p = primes[random.randrange(l)]\n",
    "    q = primes[random.randrange(l)]\n",
    "    return p * q\n",
    "\n",
    "\n",
    "N = get_semiprime(1000)\n",
    "\n",
    "print(\"semiprime N =\", N)"
   ]
  },
  {
   "cell_type": "markdown",
   "metadata": {},
   "source": [
    "#### Pasos clásicos del algoritmo de Shor\n",
    "\n",
    " $N=pq$\n",
    "\n",
    "1. Elejir un número entero aleatorio $x$ entre $1$ y $N$ y calcule el máximo común divisor $\\text{gcd}(x,N)$ usando el algoritmo de Euclides.\n",
    "2. Si $x$ y $N$ tienen algun factor primos comun, $\\text{gcd}(x,N)$ será igual a $p$ o $q$. De lo contrario, $\\text{gcd}(x,N) = 1$, lo que significa que $x$ y $N$ son coprimos. \n",
    "3. Sea $r$ el período de $x \\bmod N$ calculado por la máquina de búsqueda de períodos. Repita los pasos anteriores con diferentes opciones aleatorias de $x$ hasta que $r$ sea par.\n",
    "4. Ahora $p$ y $q$ se pueden encontrar calculando $\\text{gcd}(x^{r/2} \\pm 1, N)$ siempre que $x^{r/2} \\neq \\pm 1$."
   ]
  },
  {
   "cell_type": "code",
   "execution_count": 12,
   "metadata": {},
   "outputs": [
    {
     "name": "stdout",
     "output_type": "stream",
     "text": [
      "semiprime N = 216031, coprime x = 175798, period r = 35844, prime factors = 349 and 619\n"
     ]
    }
   ],
   "source": [
    "import math\n",
    "\n",
    "\n",
    "def shors_algorithm_classical(N):\n",
    "    x = random.randint(0, N)  # step one\n",
    "    if math.gcd(x, N) != 1:  # step two\n",
    "        return x, 0, math.gcd(x, N), N / math.gcd(x, N)\n",
    "    r = find_period_classical(x, N)  # step three\n",
    "    while r % 2 != 0:\n",
    "        r = find_period_classical(x, N)\n",
    "    p = math.gcd(\n",
    "        x ** int(r / 2) + 1, N\n",
    "    )  # step four, ignoring the case where (x^(r/2) +/- 1) is a multiple of N\n",
    "    q = math.gcd(x ** int(r / 2) - 1, N)\n",
    "    return x, r, p, q\n",
    "\n",
    "\n",
    "x, r, p, q = shors_algorithm_classical(N)\n",
    "print(\n",
    "    \"semiprime N = \",\n",
    "    N,\n",
    "    \", coprime x = \",\n",
    "    x,\n",
    "    \", period r = \",\n",
    "    r,\n",
    "    \", prime factors = \",\n",
    "    p,\n",
    "    \" and \",\n",
    "    q,\n",
    "    sep=\"\",\n",
    ")"
   ]
  },
  {
   "cell_type": "markdown",
   "metadata": {},
   "source": [
    "# Algoritmo Cuantico de Shor\n",
    "1. Elija aleatoriamente un número entero a tal que $0 < a <N$. Utilice el algoritmo euclidiano para determinar si $a$ y $N$ son coprimos. Si no, hemos encontrado un factor de $N$. De lo contrario, aplique el resto del algoritmo.\n",
    "2. Utilice el paralelismo cuántico para calcular $f(x)=a^x\\mod N$ en la superposición de entradas, y aplique la QFT al resultado. Basta con considerar valores de entrada $x \\in \\{0, \\cdots , 2n −1\\}$, donde $n$ es tal que $N^2 ≤ 2n < 2N^2$.\n",
    "3. Medir. Con una alta probabilidad, se obtendrá un valor $v$ cercano a un múltiplo de $\\frac{2^n}{r}$.\n",
    "4. Utilice métodos clásicos para obtener un período $r$ conjeturado a partir del valor $v$.\n",
    "5. Cuando $r$ es par, utilice el algoritmo euclidiano para comprobar eficientemente si $(x^{r/2} +1)$ o $(x^{r/2}−1)$ tiene un factor común no trivial con $N$.\n",
    "6. Repita todos los pasos si es necesario."
   ]
  },
  {
   "cell_type": "markdown",
   "metadata": {},
   "source": [
    "## Encontrar el Periodo usando QC\n",
    "La solución de Shor fue utilizar la estimación de fase cuántica en el operador unitario:\n",
    "\n",
    "$$ U|y\\rangle \\equiv |ay \\bmod N \\rangle $$\n",
    "\n",
    "Para ver cómo esto es útil, determinemos cómo sería un estado propio de $U$. Si comenzamos en el estado $|1\\rangle$, podemos ver que cada aplicación sucesiva de U multiplicará el estado de nuestro registro por $a \\pmod N$, y después de $r$ aplicaciones llegaremos al estado $ |1\\rangle$ nuevamente. Por ejemplo con $a = 3$ y $N = 35$:\n",
    "\n",
    "$$\\begin{aligned}\n",
    "U|1\\rangle &= |3\\rangle & \\\\\n",
    "U^2|1\\rangle &= |9\\rangle \\\\\n",
    "U^3|1\\rangle &= |27\\rangle \\\\\n",
    "& \\vdots \\\\\n",
    "U^{(r-1)}|1\\rangle &= |12\\rangle \\\\\n",
    "U^r|1\\rangle &= |1\\rangle \n",
    "\\end{aligned}$$\n"
   ]
  },
  {
   "cell_type": "markdown",
   "metadata": {},
   "source": [
    "Una superposicion de estados en este ciclo seria un estado propodio de $U$:\n",
    "\n",
    "$$|u_0\\rangle = \\tfrac{1}{\\sqrt{r}}\\sum_{k=0}^{r-1}{|a^k \\bmod N\\rangle} $$\n",
    "\n",
    "Este estado propio tiene un valor propio de $1$, lo cual no es muy interesante. Un estado propio más interesante podría ser aquel en el que la fase sea diferente para cada uno de los estados de la base computacional. Específicamente, veamos el caso en el que la fase del estado $k^\\text{th}$ es proporcional a $k$:\n",
    "\n",
    "$$\\begin{aligned}\n",
    "|u_1\\rangle &= \\tfrac{1}{\\sqrt{r}}\\sum_{k=0}^{r-1}{e^{-\\tfrac{2\\pi i k}{r}}|a^k \\bmod N\\rangle}\\\\[10pt]\n",
    "U|u_1\\rangle &= e^{\\tfrac{2\\pi i}{r}}|u_1\\rangle \n",
    "\\end{aligned}\n",
    "$$\n",
    "\n",
    "Este es un valor propio particularmente interesante ya que contiene $r$. De hecho, se debe incluir $r$ para garantizar que las diferencias de fase entre los estados de la base computacional de $r$ sean iguales. Este no es el único estado propio con este comportamiento; Para generalizar esto aún más, podemos multiplicar un número entero, $s$, por esta diferencia de fase, que aparecerá en nuestro valor propio:\n",
    "\n",
    "$$\\begin{aligned}\n",
    "|u_s\\rangle &= \\tfrac{1}{\\sqrt{r}}\\sum_{k=0}^{r-1}{e^{-\\tfrac{2\\pi i s k}{r}}|a^k \\bmod N\\rangle}\\\\[10pt]\n",
    "U|u_s\\rangle &= e^{\\tfrac{2\\pi i s}{r}}|u_s\\rangle \n",
    "\\end{aligned}\n",
    "$$\n",
    "\n",
    "Ahora tenemos un estado propio único para cada valor entero de $s$ donde $0 \\leq s \\leq r-1.$ Muy convenientemente, si sumamos todos estos estados propios, las diferentes fases cancelan todos los estados  de la base computacionale excepto $|1 \\rangle$:\n",
    "\n",
    "$$ \\tfrac{1}{\\sqrt{r}}\\sum_{s=0}^{r-1} |u_s\\rangle = |1\\rangle$$\n",
    "\n",
    "Dado que el estado de la base computacional $|1\\rangle$ es una superposición de estos estados propios, significa que si hacemos QPE en $U$ usando el estado $|1\\rangle$, mediremos una fase:\n",
    "\n",
    "$$\\phi = \\frac{s}{r}$$\n",
    "\n",
    "Donde $s$ es un número entero aleatorio entre $0$ y $r-1$. Finalmente usamos el algoritmo [fracciones continuas](https://en.wikipedia.org/wiki/Continued_fraction) en $\\phi$ para encontrar $r$. El diagrama del circuito se ve así: \n",
    "\n",
    "<img src=\"images/shor_circuit_1.svg\">\n"
   ]
  },
  {
   "cell_type": "markdown",
   "metadata": {},
   "source": [
    "## Implementacion en Qiskit \n",
    "\n",
    "Resolveremos el problema de encontrar el período para $a=7$ y $N=15$. Proporcionamos los circuitos por $U$ donde (por ahora sin explicarlo):\n",
    "\n",
    "$$U|y\\rangle = |ay\\bmod 15\\rangle $$\n",
    "\n",
    "Para crear $U^x$, simplemente repetiremos el circuito $x$ veces. La función `c_amod15` devuelve la puerta U controlada durante `a`, repetidas veces `power`."
   ]
  },
  {
   "cell_type": "code",
   "execution_count": 26,
   "metadata": {
    "tags": [
     "thebelab-init"
    ]
   },
   "outputs": [],
   "source": [
    "def c_amod15(a, power):\n",
    "    \"\"\"Controlled multiplication by a mod 15\"\"\"\n",
    "    if a not in [2, 4, 7, 8, 11, 13]:\n",
    "        raise ValueError(\"'a' must be 2,4,7,8,11 or 13\")\n",
    "    U = QuantumCircuit(4)\n",
    "    for _iteration in range(power):\n",
    "        if a in [2, 13]:\n",
    "            U.swap(2, 3)\n",
    "            U.swap(1, 2)\n",
    "            U.swap(0, 1)\n",
    "        if a in [7, 8]:\n",
    "            U.swap(0, 1)\n",
    "            U.swap(1, 2)\n",
    "            U.swap(2, 3)\n",
    "        if a in [4, 11]:\n",
    "            U.swap(1, 3)\n",
    "            U.swap(0, 2)\n",
    "        if a in [7, 11, 13]:\n",
    "            for q in range(4):\n",
    "                U.x(q)\n",
    "    U = U.to_gate()\n",
    "    U.name = f\"{a}^{power} mod 15\"\n",
    "    c_U = U.control()\n",
    "    return c_U"
   ]
  },
  {
   "cell_type": "markdown",
   "metadata": {},
   "source": [
    "Usaremos 8 qubits para contar:"
   ]
  },
  {
   "cell_type": "code",
   "execution_count": 27,
   "metadata": {
    "tags": [
     "thebelab-init"
    ]
   },
   "outputs": [],
   "source": [
    "# Specify variables\n",
    "N_COUNT = 8  # number of counting qubits\n",
    "a = 7"
   ]
  },
  {
   "cell_type": "markdown",
   "metadata": {},
   "source": [
    "Implementamos la transformada de Fourier"
   ]
  },
  {
   "cell_type": "code",
   "execution_count": 28,
   "metadata": {
    "tags": [
     "thebelab-init"
    ]
   },
   "outputs": [],
   "source": [
    "def qft_dagger(n):\n",
    "    \"\"\"n-qubit QFTdagger the first n qubits in circ\"\"\"\n",
    "    qc = QuantumCircuit(n)\n",
    "    # Don't forget the Swaps!\n",
    "    for qubit in range(n // 2):\n",
    "        qc.swap(qubit, n - qubit - 1)\n",
    "    for j in range(n):\n",
    "        for m in range(j):\n",
    "            qc.cp(-np.pi / float(2 ** (j - m)), m, j)\n",
    "        qc.h(j)\n",
    "    qc.name = \"QFT†\"\n",
    "    return qc"
   ]
  },
  {
   "cell_type": "markdown",
   "metadata": {},
   "source": [
    "Construimos el circuito para implementar el algoritmo de Shor:"
   ]
  },
  {
   "cell_type": "code",
   "execution_count": 32,
   "metadata": {
    "tags": [
     "thebelab-init"
    ]
   },
   "outputs": [],
   "source": [
    "# pylint: disable=invalid-name\n",
    "import matplotlib.pyplot as plt\n",
    "import numpy as np\n",
    "from qiskit import QuantumCircuit, transpile\n",
    "from qiskit.visualization import plot_histogram\n",
    "from math import gcd\n",
    "from numpy.random import randint\n",
    "import pandas as pd\n",
    "from fractions import Fraction\n",
    "from qiskit_aer import AerSimulator"
   ]
  },
  {
   "cell_type": "code",
   "execution_count": 33,
   "metadata": {},
   "outputs": [
    {
     "data": {
      "text/html": [
       "<pre style=\"word-wrap: normal;white-space: pre;background: #fff0;line-height: 1.1;font-family: &quot;Courier New&quot;,Courier,monospace\">      ┌───┐                                                                                                                             ┌───────┐┌─┐                     \n",
       " q_0: ┤ H ├───────■─────────────────────────────────────────────────────────────────────────────────────────────────────────────────────┤0      ├┤M├─────────────────────\n",
       "      ├───┤       │                                                                                                                     │       │└╥┘┌─┐                  \n",
       " q_1: ┤ H ├───────┼──────────────■──────────────────────────────────────────────────────────────────────────────────────────────────────┤1      ├─╫─┤M├──────────────────\n",
       "      ├───┤       │              │                                                                                                      │       │ ║ └╥┘┌─┐               \n",
       " q_2: ┤ H ├───────┼──────────────┼──────────────■───────────────────────────────────────────────────────────────────────────────────────┤2      ├─╫──╫─┤M├───────────────\n",
       "      ├───┤       │              │              │                                                                                       │       │ ║  ║ └╥┘┌─┐            \n",
       " q_3: ┤ H ├───────┼──────────────┼──────────────┼──────────────■────────────────────────────────────────────────────────────────────────┤3      ├─╫──╫──╫─┤M├────────────\n",
       "      ├───┤       │              │              │              │                                                                        │  QFT† │ ║  ║  ║ └╥┘┌─┐         \n",
       " q_4: ┤ H ├───────┼──────────────┼──────────────┼──────────────┼──────────────■─────────────────────────────────────────────────────────┤4      ├─╫──╫──╫──╫─┤M├─────────\n",
       "      ├───┤       │              │              │              │              │                                                         │       │ ║  ║  ║  ║ └╥┘┌─┐      \n",
       " q_5: ┤ H ├───────┼──────────────┼──────────────┼──────────────┼──────────────┼───────────────■─────────────────────────────────────────┤5      ├─╫──╫──╫──╫──╫─┤M├──────\n",
       "      ├───┤       │              │              │              │              │               │                                         │       │ ║  ║  ║  ║  ║ └╥┘┌─┐   \n",
       " q_6: ┤ H ├───────┼──────────────┼──────────────┼──────────────┼──────────────┼───────────────┼───────────────■─────────────────────────┤6      ├─╫──╫──╫──╫──╫──╫─┤M├───\n",
       "      ├───┤       │              │              │              │              │               │               │                         │       │ ║  ║  ║  ║  ║  ║ └╥┘┌─┐\n",
       " q_7: ┤ H ├───────┼──────────────┼──────────────┼──────────────┼──────────────┼───────────────┼───────────────┼────────────────■────────┤7      ├─╫──╫──╫──╫──╫──╫──╫─┤M├\n",
       "      ├───┤┌──────┴──────┐┌──────┴──────┐┌──────┴──────┐┌──────┴──────┐┌──────┴───────┐┌──────┴───────┐┌──────┴───────┐┌───────┴───────┐└───────┘ ║  ║  ║  ║  ║  ║  ║ └╥┘\n",
       " q_8: ┤ X ├┤0            ├┤0            ├┤0            ├┤0            ├┤0             ├┤0             ├┤0             ├┤0              ├──────────╫──╫──╫──╫──╫──╫──╫──╫─\n",
       "      └───┘│             ││             ││             ││             ││              ││              ││              ││               │          ║  ║  ║  ║  ║  ║  ║  ║ \n",
       " q_9: ─────┤1            ├┤1            ├┤1            ├┤1            ├┤1             ├┤1             ├┤1             ├┤1              ├──────────╫──╫──╫──╫──╫──╫──╫──╫─\n",
       "           │  7^1 mod 15 ││  7^2 mod 15 ││  7^4 mod 15 ││  7^8 mod 15 ││  7^16 mod 15 ││  7^32 mod 15 ││  7^64 mod 15 ││  7^128 mod 15 │          ║  ║  ║  ║  ║  ║  ║  ║ \n",
       "q_10: ─────┤2            ├┤2            ├┤2            ├┤2            ├┤2             ├┤2             ├┤2             ├┤2              ├──────────╫──╫──╫──╫──╫──╫──╫──╫─\n",
       "           │             ││             ││             ││             ││              ││              ││              ││               │          ║  ║  ║  ║  ║  ║  ║  ║ \n",
       "q_11: ─────┤3            ├┤3            ├┤3            ├┤3            ├┤3             ├┤3             ├┤3             ├┤3              ├──────────╫──╫──╫──╫──╫──╫──╫──╫─\n",
       "           └─────────────┘└─────────────┘└─────────────┘└─────────────┘└──────────────┘└──────────────┘└──────────────┘└───────────────┘          ║  ║  ║  ║  ║  ║  ║  ║ \n",
       " c: 8/════════════════════════════════════════════════════════════════════════════════════════════════════════════════════════════════════════════╩══╩══╩══╩══╩══╩══╩══╩═\n",
       "                                                                                                                                                  0  1  2  3  4  5  6  7 </pre>"
      ],
      "text/plain": [
       "      ┌───┐                                                                                                                             ┌───────┐┌─┐                     \n",
       " q_0: ┤ H ├───────■─────────────────────────────────────────────────────────────────────────────────────────────────────────────────────┤0      ├┤M├─────────────────────\n",
       "      ├───┤       │                                                                                                                     │       │└╥┘┌─┐                  \n",
       " q_1: ┤ H ├───────┼──────────────■──────────────────────────────────────────────────────────────────────────────────────────────────────┤1      ├─╫─┤M├──────────────────\n",
       "      ├───┤       │              │                                                                                                      │       │ ║ └╥┘┌─┐               \n",
       " q_2: ┤ H ├───────┼──────────────┼──────────────■───────────────────────────────────────────────────────────────────────────────────────┤2      ├─╫──╫─┤M├───────────────\n",
       "      ├───┤       │              │              │                                                                                       │       │ ║  ║ └╥┘┌─┐            \n",
       " q_3: ┤ H ├───────┼──────────────┼──────────────┼──────────────■────────────────────────────────────────────────────────────────────────┤3      ├─╫──╫──╫─┤M├────────────\n",
       "      ├───┤       │              │              │              │                                                                        │  QFT† │ ║  ║  ║ └╥┘┌─┐         \n",
       " q_4: ┤ H ├───────┼──────────────┼──────────────┼──────────────┼──────────────■─────────────────────────────────────────────────────────┤4      ├─╫──╫──╫──╫─┤M├─────────\n",
       "      ├───┤       │              │              │              │              │                                                         │       │ ║  ║  ║  ║ └╥┘┌─┐      \n",
       " q_5: ┤ H ├───────┼──────────────┼──────────────┼──────────────┼──────────────┼───────────────■─────────────────────────────────────────┤5      ├─╫──╫──╫──╫──╫─┤M├──────\n",
       "      ├───┤       │              │              │              │              │               │                                         │       │ ║  ║  ║  ║  ║ └╥┘┌─┐   \n",
       " q_6: ┤ H ├───────┼──────────────┼──────────────┼──────────────┼──────────────┼───────────────┼───────────────■─────────────────────────┤6      ├─╫──╫──╫──╫──╫──╫─┤M├───\n",
       "      ├───┤       │              │              │              │              │               │               │                         │       │ ║  ║  ║  ║  ║  ║ └╥┘┌─┐\n",
       " q_7: ┤ H ├───────┼──────────────┼──────────────┼──────────────┼──────────────┼───────────────┼───────────────┼────────────────■────────┤7      ├─╫──╫──╫──╫──╫──╫──╫─┤M├\n",
       "      ├───┤┌──────┴──────┐┌──────┴──────┐┌──────┴──────┐┌──────┴──────┐┌──────┴───────┐┌──────┴───────┐┌──────┴───────┐┌───────┴───────┐└───────┘ ║  ║  ║  ║  ║  ║  ║ └╥┘\n",
       " q_8: ┤ X ├┤0            ├┤0            ├┤0            ├┤0            ├┤0             ├┤0             ├┤0             ├┤0              ├──────────╫──╫──╫──╫──╫──╫──╫──╫─\n",
       "      └───┘│             ││             ││             ││             ││              ││              ││              ││               │          ║  ║  ║  ║  ║  ║  ║  ║ \n",
       " q_9: ─────┤1            ├┤1            ├┤1            ├┤1            ├┤1             ├┤1             ├┤1             ├┤1              ├──────────╫──╫──╫──╫──╫──╫──╫──╫─\n",
       "           │  7^1 mod 15 ││  7^2 mod 15 ││  7^4 mod 15 ││  7^8 mod 15 ││  7^16 mod 15 ││  7^32 mod 15 ││  7^64 mod 15 ││  7^128 mod 15 │          ║  ║  ║  ║  ║  ║  ║  ║ \n",
       "q_10: ─────┤2            ├┤2            ├┤2            ├┤2            ├┤2             ├┤2             ├┤2             ├┤2              ├──────────╫──╫──╫──╫──╫──╫──╫──╫─\n",
       "           │             ││             ││             ││             ││              ││              ││              ││               │          ║  ║  ║  ║  ║  ║  ║  ║ \n",
       "q_11: ─────┤3            ├┤3            ├┤3            ├┤3            ├┤3             ├┤3             ├┤3             ├┤3              ├──────────╫──╫──╫──╫──╫──╫──╫──╫─\n",
       "           └─────────────┘└─────────────┘└─────────────┘└─────────────┘└──────────────┘└──────────────┘└──────────────┘└───────────────┘          ║  ║  ║  ║  ║  ║  ║  ║ \n",
       " c: 8/════════════════════════════════════════════════════════════════════════════════════════════════════════════════════════════════════════════╩══╩══╩══╩══╩══╩══╩══╩═\n",
       "                                                                                                                                                  0  1  2  3  4  5  6  7 "
      ]
     },
     "execution_count": 33,
     "metadata": {},
     "output_type": "execute_result"
    }
   ],
   "source": [
    "# Create QuantumCircuit with N_COUNT counting qubits\n",
    "# plus 4 qubits for U to act on\n",
    "qc = QuantumCircuit(N_COUNT + 4, N_COUNT)\n",
    "\n",
    "# Initialize counting qubits\n",
    "# in state |+>\n",
    "for q in range(N_COUNT):\n",
    "    qc.h(q)\n",
    "\n",
    "# And auxiliary register in state |1>\n",
    "qc.x(N_COUNT)\n",
    "\n",
    "# Do controlled-U operations\n",
    "for q in range(N_COUNT):\n",
    "    qc.append(c_amod15(a, 2**q), [q] + [i + N_COUNT for i in range(4)])\n",
    "\n",
    "# Do inverse-QFT\n",
    "qc.append(qft_dagger(N_COUNT), range(N_COUNT))\n",
    "\n",
    "# Measure circuit\n",
    "qc.measure(range(N_COUNT), range(N_COUNT))\n",
    "qc.draw(fold=-1)  # -1 means 'do not fold'"
   ]
  },
  {
   "cell_type": "markdown",
   "metadata": {},
   "source": [
    "Realizamos la medicion:"
   ]
  },
  {
   "cell_type": "code",
   "execution_count": 34,
   "metadata": {},
   "outputs": [
    {
     "data": {
      "image/png": "[encoded data removed]",
      "text/plain": [
       "<Figure size 700x500 with 1 Axes>"
      ]
     },
     "execution_count": 34,
     "metadata": {},
     "output_type": "execute_result"
    }
   ],
   "source": [
    "backend = AerSimulator()\n",
    "t_qc = transpile(qc, backend)\n",
    "counts = backend.run(t_qc).result().get_counts()\n",
    "plot_histogram(counts)"
   ]
  },
  {
   "cell_type": "markdown",
   "metadata": {},
   "source": [
    "Como tenemos 8 qubits, estos resultados corresponden a fases medidas de:"
   ]
  },
  {
   "cell_type": "code",
   "execution_count": 36,
   "metadata": {},
   "outputs": [
    {
     "name": "stdout",
     "output_type": "stream",
     "text": [
      "            Register Output           Phase\n",
      "0  00000000(bin) =   0(dec)    0/256 = 0.00\n",
      "1  10000000(bin) = 128(dec)  128/256 = 0.50\n",
      "2  01000000(bin) =  64(dec)   64/256 = 0.25\n",
      "3  11000000(bin) = 192(dec)  192/256 = 0.75\n"
     ]
    }
   ],
   "source": [
    "rows, measured_phases = [], []\n",
    "for output in counts:\n",
    "    decimal = int(output, 2)  # Convert (base 2) string to decimal\n",
    "    phase = decimal / (2**N_COUNT)  # Find corresponding eigenvalue\n",
    "    measured_phases.append(phase)\n",
    "    # Add these values to the rows in our table:\n",
    "    rows.append([f\"{output}(bin) = {decimal:>3}(dec)\", f\"{decimal}/{2**N_COUNT} = {phase:.2f}\"])\n",
    "# Print the rows in a table\n",
    "headers = [\"Register Output\", \"Phase\"]\n",
    "df = pd.DataFrame(rows, columns=headers)\n",
    "print(df)"
   ]
  },
  {
   "cell_type": "markdown",
   "metadata": {},
   "source": [
    "Ahora podemos usar el algoritmo de fracciones continuas para intentar encontrar $s$ y $r$. Python tiene esta funcionalidad incorporada: podemos usar el módulo `fractions` para convertir un flotante en un objeto `Fraction`, podemos usar el método `.limit_denominator()` para obtener la fracción que más se parezca a nuestro float, con un denominador por debajo de cierto valor, por ejemplo:"
   ]
  },
  {
   "cell_type": "code",
   "execution_count": 37,
   "metadata": {},
   "outputs": [
    {
     "data": {
      "text/plain": [
       "Fraction(2, 3)"
      ]
     },
     "execution_count": 37,
     "metadata": {},
     "output_type": "execute_result"
    }
   ],
   "source": [
    "# Get fraction that most closely resembles 0.666\n",
    "# with denominator < 15\n",
    "Fraction(0.666).limit_denominator(15)"
   ]
  },
  {
   "cell_type": "markdown",
   "metadata": {},
   "source": [
    "El orden $(r)$  debe ser menor de $N$, asi que limitaremos el denominador a $15$:"
   ]
  },
  {
   "cell_type": "code",
   "execution_count": 38,
   "metadata": {},
   "outputs": [
    {
     "name": "stdout",
     "output_type": "stream",
     "text": [
      "   Phase Fraction  Guess for r\n",
      "0   0.00      0/1            1\n",
      "1   0.50      1/2            2\n",
      "2   0.25      1/4            4\n",
      "3   0.75      3/4            4\n"
     ]
    }
   ],
   "source": [
    "rows = []\n",
    "for phase in measured_phases:\n",
    "    frac = Fraction(phase).limit_denominator(15)\n",
    "    rows.append([phase, f\"{frac.numerator}/{frac.denominator}\", frac.denominator])\n",
    "# Print as a table\n",
    "headers = [\"Phase\", \"Fraction\", \"Guess for r\"]\n",
    "df = pd.DataFrame(rows, columns=headers)\n",
    "print(df)"
   ]
  },
  {
   "cell_type": "markdown",
   "metadata": {},
   "source": [
    "Podemos ver que dos de los valores propios medidos nos proporcionaron el resultado correcto: $r=4$, y podemos ver que el algoritmo de Shor tiene posibilidades de fallar. Estos malos resultados se deben a que $s = 0$, o porque $s$ y $r$ no son coprimos y en lugar de $r$ nos dan un factor de $r$. La solución más sencilla a esto es simplemente repetir el experimento hasta obtener un resultado satisfactorio para $r$."
   ]
  },
  {
   "cell_type": "markdown",
   "metadata": {},
   "source": [
    "## Exponenciación modular\n",
    "El método de crear las compuertas $U^{2^j}$ repitiendo $U$ crece exponencialmente con $j$ y no dará como resultado un algoritmo de tiempo polinómico. Queremos una forma de crear el operador:\n",
    "\n",
    "$$ U^{2^j}|y\\rangle = |a^{2^j}y \\bmod N \\rangle $$\n",
    "\n",
    "que crece polinomialmente con $j$. Afortunadamente, calcular $$ a^{2^j} \\bmod N$$ eficientemente es posible. \n",
    "\n",
    "Esto se puede realizar usando la siguiente identidad para la representación binaria de cualquier número entero: $x = x_{t-1}2^{t-1} + \\cdots x_12^1+x_02^0$, donde $x_t$ son los dígitos binarios de $x$. De esto se desprende que:\n",
    "\n",
    "\\begin{align}\n",
    "x^a \\bmod N & = x^{2^{(t-1)}a_{t-1}} ... x^{2a_1}x^{a_0} \\bmod N \\\\\n",
    "& = x^{2^{(t-1)}a_{t-1}} ... [x^{2a_1}[x^{2a_0} \\bmod N] \\bmod N] ... \\bmod N \\\\\n",
    "\\end{align}\n",
    "\n",
    "Esto significa que 1 se multiplica primero por $x^1 \\bmod N$ si y solo si $a_0 = 1$, entonces el resultado se multiplica por $x^2 \\bmod N$ si y solo si $a_1 = 1$ y así sucesivamente, hasta que finalmente el resultado se multiplica por $x^{2^{(s-1)}}\\bmod N$ si y sólo si $a_{t-1} = 1$.\n",
    "\n",
    "Por lo tanto, la exponenciación modular consta de $t$ multiplicaciones seriales módulo $N$, cada una de ellas controlada por el qubit $y$.\n",
    "\n",
    "Las computadoras clásicas pueden usar un algoritmo conocido como _cuadrado repetido_ para calcular una exponencial. En nuestro caso, dado que solo estamos tratando con exponenciales de la forma $2^j$, el algoritmo de elevación al cuadrado repetido se vuelve muy simple:"
   ]
  },
  {
   "cell_type": "code",
   "execution_count": 41,
   "metadata": {},
   "outputs": [],
   "source": [
    "def a2jmodN(a, j, N):\n",
    "    \"\"\"Compute a^{2^j} (mod N) by repeated squaring\"\"\"\n",
    "    for _ in range(j):\n",
    "        a = np.mod(a**2, N)\n",
    "    return a"
   ]
  },
  {
   "cell_type": "code",
   "execution_count": 42,
   "metadata": {},
   "outputs": [
    {
     "data": {
      "text/plain": [
       "47"
      ]
     },
     "execution_count": 42,
     "metadata": {},
     "output_type": "execute_result"
    }
   ],
   "source": [
    "a2jmodN(7, 2049, 53)"
   ]
  },
  {
   "cell_type": "markdown",
   "metadata": {},
   "source": [
    "Si es posible un algoritmo eficiente en Python, entonces podemos usar el mismo algoritmo en una computadora cuántica. Desafortunadamente, a pesar de escalar polinomialmente con $j$, los circuitos de exponenciación modulares no son sencillos y son el cuello de botella en el algoritmo de Shor."
   ]
  },
  {
   "cell_type": "markdown",
   "metadata": {},
   "source": [
    "# Factorizacion como Periodo\n",
    "No todos los problemas de factorizacion son difíciles; podemos detectar un número par instantáneamente y saber que uno de sus factores es 2. De hecho, existen criterios específicos para elegir números que son difíciles de factorizar, pero la idea básica es elegir el producto de dos números primos grandes.\r\n",
    "\r\n",
    "Un algoritmo de factorización general primero verificará si hay un atajo para factorizar el número entero (¿es el número par? ¿Es el número de la forma $N = a^b$ón. Comqueremosos centrarnos en la parte cuántica del algoritmo, pasaremos directamente al caso en el qu$e$ N es el producto de dos números primos."
   ]
  },
  {
   "cell_type": "markdown",
   "metadata": {},
   "source": [
    "# Ejemplo: Factorizar 15\n",
    "Para ver un ejemplo de factorización de una pequeña cantidad de qubits, factorizaremos 15, que todos sabemos es el producto de los números primos no tan grandes 3 y 5."
   ]
  },
  {
   "cell_type": "code",
   "execution_count": 43,
   "metadata": {
    "tags": [
     "thebelab-init"
    ]
   },
   "outputs": [],
   "source": [
    "N = 15"
   ]
  },
  {
   "cell_type": "markdown",
   "metadata": {},
   "source": [
    "El primer paso es elegir un número aleatorio, $a$, entre $1$ y $N-1$:"
   ]
  },
  {
   "cell_type": "code",
   "execution_count": 45,
   "metadata": {
    "tags": [
     "thebelab-init"
    ]
   },
   "outputs": [
    {
     "name": "stdout",
     "output_type": "stream",
     "text": [
      "7\n"
     ]
    }
   ],
   "source": [
    "np.random.seed(1)  # This is to make sure we get reproduceable results\n",
    "a = randint(2, 15)\n",
    "print(a)"
   ]
  },
  {
   "cell_type": "markdown",
   "metadata": {},
   "source": [
    "A continuación comprobamos rápidamente que no sea ya un factor no trivial de $N$:"
   ]
  },
  {
   "cell_type": "code",
   "execution_count": 47,
   "metadata": {},
   "outputs": [
    {
     "data": {
      "text/plain": [
       "1"
      ]
     },
     "execution_count": 47,
     "metadata": {},
     "output_type": "execute_result"
    }
   ],
   "source": [
    "from math import gcd  # greatest common divisor\n",
    "\n",
    "gcd(a, N)"
   ]
  },
  {
   "cell_type": "markdown",
   "metadata": {},
   "source": [
    "Excelente. A continuación, hacemos el algoritmo de búsqueda de orden de Shor para $a = 7$ y $N = 15$. Recuerda que la fase que mediremos será $s/r$ donde:\r\n",
    "\r\n",
    "$$ a^r \\bmod N = 1 $$\r\n",
    "\r\n",
    "y $s$ es un número entero aleatorio entre 0 y $r-1$."
   ]
  },
  {
   "cell_type": "code",
   "execution_count": 49,
   "metadata": {
    "tags": [
     "thebelab-init"
    ]
   },
   "outputs": [],
   "source": [
    "def qpe_amod15(a):\n",
    "    \"\"\"Performs quantum phase estimation on the operation a*r mod 15.\n",
    "    Args:\n",
    "        a (int): This is 'a' in a*r mod 15\n",
    "    Returns:\n",
    "        float: Estimate of the phase\n",
    "    \"\"\"\n",
    "    N_COUNT = 8\n",
    "    qc = QuantumCircuit(4 + N_COUNT, N_COUNT)\n",
    "    for q in range(N_COUNT):\n",
    "        qc.h(q)  # Initialize counting qubits in state |+>\n",
    "    qc.x(3 + N_COUNT)  # And auxiliary register in state |1>\n",
    "    for q in range(N_COUNT):  # Do controlled-U operations\n",
    "        qc.append(c_amod15(a, 2**q), [q] + [i + N_COUNT for i in range(4)])\n",
    "    qc.append(qft_dagger(N_COUNT), range(N_COUNT))  # Do inverse-QFT\n",
    "    qc.measure(range(N_COUNT), range(N_COUNT))\n",
    "    # Simulate Results\n",
    "    aer_sim = Aer.get_backend(\"aer_simulator\")\n",
    "    # `memory=True` tells the backend to save each measurement in a list\n",
    "    job = aer_sim.run(transpile(qc, aer_sim), shots=1, memory=True)\n",
    "    readings = job.result().get_memory()\n",
    "    print(\"Register Reading: \" + readings[0])\n",
    "    phase = int(readings[0], 2) / (2**N_COUNT)\n",
    "    print(f\"Corresponding Phase: {phase}\")\n",
    "    return phase"
   ]
  },
  {
   "cell_type": "markdown",
   "metadata": {},
   "source": [
    "A partir de esta fase, podemos encontrar fácilmente una estimación de $r$:"
   ]
  },
  {
   "cell_type": "code",
   "execution_count": 19,
   "metadata": {},
   "outputs": [
    {
     "name": "stdout",
     "output_type": "stream",
     "text": [
      "Register Reading: 00000000\n",
      "Corresponding Phase: 0.000000\n"
     ]
    },
    {
     "data": {
      "text/plain": [
       "Fraction(0, 1)"
      ]
     },
     "execution_count": 19,
     "metadata": {},
     "output_type": "execute_result"
    }
   ],
   "source": [
    "phase = qpe_amod15(a)  # Phase = s/r\n",
    "Fraction(phase).limit_denominator(15)"
   ]
  },
  {
   "cell_type": "code",
   "execution_count": 20,
   "metadata": {},
   "outputs": [
    {
     "name": "stdout",
     "output_type": "stream",
     "text": [
      "1\n"
     ]
    }
   ],
   "source": [
    "frac = Fraction(phase).limit_denominator(15)\n",
    "s, r = frac.numerator, frac.denominator\n",
    "print(r)"
   ]
  },
  {
   "cell_type": "markdown",
   "metadata": {},
   "source": [
    "Ahora que tenemos $r$, podríamos usar esto para encontrar un factor de $N$. Desde:\n",
    "\n",
    "$$a^r \\bmod N = 1 $$\n",
    "\n",
    "entonces:\n",
    "\n",
    "$$(a^r - 1) \\bmod N = 0 $$\n",
    "\n",
    "lo que significa que $N$ debe dividir $a^r-1$. Y si $r$ también es par, entonces podemos escribir:\n",
    "\n",
    "$$a^r -1 = (a^{r/2}-1)(a^{r/2}+1)$$\n",
    "\n",
    "(si $r$ no es par, no podemos ir más lejos y debemos intentar nuevamente con un valor diferente para $a$). Entonces existe una alta probabilidad de que el máximo común divisor de $N$ y $a^{r/2}-1$, o $a^{r/2}+1$ sea un factor propio de $N$:"
   ]
  },
  {
   "cell_type": "code",
   "execution_count": 96,
   "metadata": {},
   "outputs": [
    {
     "name": "stdout",
     "output_type": "stream",
     "text": [
      "[15, 1]\n"
     ]
    }
   ],
   "source": [
    "guesses = [gcd(a ** (r // 2) - 1, N), gcd(a ** (r // 2) + 1, N)]\n",
    "print(guesses)"
   ]
  },
  {
   "cell_type": "markdown",
   "metadata": {},
   "source": [
    "La siguiente celda repite el algoritmo hasta que se encuentra al menos un factor de 15."
   ]
  },
  {
   "cell_type": "code",
   "execution_count": 97,
   "metadata": {},
   "outputs": [
    {
     "name": "stdout",
     "output_type": "stream",
     "text": [
      "\n",
      "ATTEMPT 1:\n",
      "Register Reading: 10000000\n",
      "Corresponding Phase: 0.5\n",
      "Result: r = 2\n",
      "Guessed Factors: 3 and 1\n",
      "*** Non-trivial factor found: {guess} ***\n"
     ]
    }
   ],
   "source": [
    "a = 7\n",
    "FACTOR_FOUND = False\n",
    "ATTEMPT = 0\n",
    "while not FACTOR_FOUND:\n",
    "    ATTEMPT += 1\n",
    "    print(f\"\\nATTEMPT {ATTEMPT}:\")\n",
    "    phase = qpe_amod15(a)  # Phase = s/r\n",
    "    frac = Fraction(phase).limit_denominator(N)\n",
    "    r = frac.denominator\n",
    "    print(f\"Result: r = {r}\")\n",
    "    if phase != 0:\n",
    "        # Guesses for factors are gcd(x^{r/2} ±1 , 15)\n",
    "        guesses = [gcd(a ** (r // 2) - 1, N), gcd(a ** (r // 2) + 1, N)]\n",
    "        print(f\"Guessed Factors: {guesses[0]} and {guesses[1]}\")\n",
    "        for guess in guesses:\n",
    "            if guess not in [1, N] and (N % guess) == 0:\n",
    "                # Guess is a factor!\n",
    "                print(\"*** Non-trivial factor found: {guess} ***\")\n",
    "                FACTOR_FOUND = True"
   ]
  },
  {
   "cell_type": "code",
   "execution_count": 98,
   "metadata": {
    "tags": [
     "sanity-check"
    ]
   },
   "outputs": [],
   "source": [
    "# The cell below repeats the algorithm until at least one factor of 15\n",
    "# is found\n",
    "assert (3 in guesses) or (5 in guesses)"
   ]
  },
  {
   "cell_type": "markdown",
   "metadata": {},
   "source": [
    "## 6. References\n",
    "\n",
    "1. Stephane Beauregard, _Circuit for Shor's algorithm using 2n+3 qubits,_ [arXiv:quant-ph/0205095](https://arxiv.org/abs/quant-ph/0205095)\n",
    "2. M. Nielsen and I. Chuang, _Quantum Computation and Quantum Information,_ Cambridge Series on Information and the Natural Sciences (Cambridge University Press, Cambridge, 2000). (Page 633)\n",
    "3. Sutor, R. S. (2019). Dancing with Qubits: How quantum computing works and how it can change the world. Packt Publishing Ltd.\n",
    "4. Rieffel, E. G., & Polak, W. H. (2011). Quantum computing: A gentle introduction. MIT Press.\n",
    "5. Moran, C. C. (2019). Mastering Quantum Computing with IBM QX: Explore the world of quantum computing using the Quantum Composer and Qiskit. Packt Publishing Ltd.\n",
    "6. Shor's Algorithm for Integer Factorization (A really old community tutorial)"
   ]
  },
  {
   "cell_type": "markdown",
   "metadata": {},
   "source": [
    "# Advanced Stuff\n"
   ]
  },
  {
   "cell_type": "markdown",
   "metadata": {},
   "source": [
    "Let's implement the quantum version of Shor's algorithm for N=15 using two methods: (i) generic approach and (ii) Kitaev's approach.  First, lets find the patterns for $a^x mod(15)$:"
   ]
  },
  {
   "cell_type": "code",
   "execution_count": 91,
   "metadata": {},
   "outputs": [
    {
     "name": "stdout",
     "output_type": "stream",
     "text": [
      "[2, 4, 7, 8, 11, 13, 14]\n"
     ]
    }
   ],
   "source": [
    "import math\n",
    "\n",
    "\n",
    "def coprimes(a):\n",
    "    return [el for el in range(2, a) if math.gcd(a, el) == 1]\n",
    "\n",
    "\n",
    "a_list = coprimes(15)\n",
    "print(a_list)"
   ]
  },
  {
   "cell_type": "code",
   "execution_count": 92,
   "metadata": {},
   "outputs": [
    {
     "name": "stdout",
     "output_type": "stream",
     "text": [
      "For a= 2  the modular multiples are: [1, 2, 4, 8, 1, 2, 4, 8, 1, 2, 4, 8, 1, 2, 4, 8]\n",
      "For a= 4  the modular multiples are: [1, 4, 1, 4, 1, 4, 1, 4, 1, 4, 1, 4, 1, 4, 1, 4]\n",
      "For a= 7  the modular multiples are: [1, 7, 4, 13, 1, 7, 4, 13, 1, 7, 4, 13, 1, 7, 4, 13]\n",
      "For a= 8  the modular multiples are: [1, 8, 4, 2, 1, 8, 4, 2, 1, 8, 4, 2, 1, 8, 4, 2]\n",
      "For a= 11  the modular multiples are: [1, 11, 1, 11, 1, 11, 1, 11, 1, 11, 1, 11, 1, 11, 1, 11]\n",
      "For a= 13  the modular multiples are: [1, 13, 4, 7, 1, 13, 4, 7, 1, 13, 4, 7, 1, 13, 4, 7]\n",
      "For a= 14  the modular multiples are: [1, 14, 1, 14, 1, 14, 1, 14, 1, 14, 1, 14, 1, 14, 1, 14]\n"
     ]
    }
   ],
   "source": [
    "max_exp = 16\n",
    "N = 15\n",
    "for a in a_list:\n",
    "    result_list = []\n",
    "    for i in range(max_exp):\n",
    "        result = a**i % N\n",
    "        result_list.append(result)\n",
    "    print(\"For a=\", a, \" the modular multiples are:\", result_list)"
   ]
  },
  {
   "cell_type": "markdown",
   "metadata": {},
   "source": [
    "In the preceding optimized circuit for computing $f(x) = ax (mod N)$, we see that we will need to implement a circuit for computing $g(x) = 2x (mod 15)$.\n",
    "Remember that the easiest quantum circuit to write conceptually is to simply take a\n",
    "classical program to compute g(x) = 2x (mod 15):\n",
    "\n",
    "```Python\n",
    "def g(x):\n",
    "    return 2*x % 15\n",
    "```\n",
    "\n",
    "Now, from this circuit, we need to figure out which series of universal classical gates (for\n",
    "example, ANDs and NOTs) correspond to this program."
   ]
  },
  {
   "cell_type": "markdown",
   "metadata": {},
   "source": [
    "## Modular multiplication map\n",
    "The key thing to realize is that since we are always taking $2x (mod 15)$, the result $g(x)$ will always be between$ $0 and $14$. The second thing to realize is that there is the potential for cycles in the results. Here is one example:\n",
    "\n",
    "\\begin{align}\n",
    "2\\times 1 \\mod 15 = 2\\\\\n",
    "2\\times 2 \\mod 15 = 4\\\\\n",
    "2\\times 4 \\mod 15 = 8\\\\\n",
    "2\\times 8 \\mod 15 = 1\n",
    "\\end{align}\n",
    "\n",
    "The result of $g(x=1)$ is $2$. The result of $g(x=2)$ is $4$, the result of $g(x=4)$ is $8$, and the reult of $g(x=8)$ gets us back to $1$. This can be written as a map: $1 | 2 | 4 | 8 | 1$.\n",
    "\n",
    "Here is another example:\n",
    "\n",
    "\\begin{align}\n",
    "2\\times 3  \\mod 15 = 6  \\\\ \n",
    "2\\times 6  \\mod 15 = 12 \\\\  \n",
    "2\\times 12 \\mod 15 = 9  \\\\ \n",
    "2\\times 9  \\mod 15 = 3    \n",
    "\\end{align}\n",
    "\n",
    "This can be written as the map: $3 | 6 | 12 | 9 | 3$. For  $2x (mod 35)$.,all the possble cycles in the values of $x$ are as follows:\n",
    "\n",
    "\\begin{align}\n",
    "1 | 2 | 4 | 8 | 1    \\\\ \n",
    "3 | 6 | 12 | 9 | 3   \\\\ \n",
    "5 | 10 | 5           \\\\\n",
    "7 | 14 | 13 | 11 | 7   \n",
    "\\end{align}\n",
    "\n",
    "This is called a modular multiplication map\n"
   ]
  },
  {
   "cell_type": "markdown",
   "metadata": {},
   "source": [
    "## Procedure\n",
    "1. Find the groups of repetitions\r\n",
    "2. Convert decimal to binary\r\n",
    "3. Create an algorithm that changes one binary to the ne.t,"
   ]
  },
  {
   "cell_type": "markdown",
   "metadata": {},
   "source": [
    "## Example\n",
    "* 1 | 2 | 4 | 8 | 1 is written in binary as 0001 | 0010 | 0100 | 1000 | 0001\n",
    "* 3 | 6 | 12 | 9 | 3 is written in binary as 0011 | 0110 | 1100 | 1001 | 0011\n",
    "* 5 | 10 | 5 is written in binary as 0101 | 1010 | 0101\n",
    "* 7 | 14 | 13 | 11 | 7 is in binary 0111 | 1110 | 1101 | 1011 | 0111\n",
    "\n",
    "### Method\n",
    "1. Convert decimal to binary\n",
    "2. Translate each bit into a qubit\n",
    "3. Swap the 0th qubit and the third\n",
    "4. Swap the 0th qubit and the first\n",
    "5. Swap the first and the second\n",
    "6. Measure qubits 0, 1, 2, and 3 and place the result in a classical bit register\n",
    "7. Convert the resulting bits to decimal to read off the result in decimal\n",
    "\n",
    "Let's see an example of g(6):\n",
    "\n",
    "1. 6 is 0110 in binary\n",
    "2. Translate 0110 into |\"0110\">\n",
    "3. Swap the 0th qubit and the third to get |\"0110\">\n",
    "4. Swap the 0th qubit and the first to get |\"1010\">\n",
    "5. Swap the first and the second to get |\"1100\">\n",
    "6. Measure |\"1100\"> to get 1100\n",
    "7. Convert 1100 to decimal to get the result: 12\n"
   ]
  },
  {
   "cell_type": "code",
   "execution_count": 95,
   "metadata": {},
   "outputs": [
    {
     "name": "stdout",
     "output_type": "stream",
     "text": [
      "[(1, 2, 4, 8), (9, 3, 6, 12), (10, 5), (11, 7, 14, 13)]\n",
      "[('000001', '000010', '000100', '001000'), ('001001', '000011', '000110', '001100'), ('001010', '000101'), ('001011', '000111', '001110', '001101')]\n"
     ]
    }
   ],
   "source": [
    "def U_a_modN(a, N, binary=False):\n",
    "    \"\"\"\n",
    "    a and N are decimal\n",
    "    This algorithm returns U_a where:\n",
    "        U_a is a modular multiplication operator map from |x> to |ax mod N>\n",
    "    If binary is set to True, the mapping is given in binary instead of in decimal notation.\n",
    "\n",
    "    \"\"\"\n",
    "    res = {}\n",
    "    l = []\n",
    "    for i in range(1, N):\n",
    "        l += [a * i % N]\n",
    "    res = set()\n",
    "\n",
    "    for i in range(1, N):\n",
    "        mp = [i]\n",
    "        end = i\n",
    "        nxt = i - 1\n",
    "        while l[nxt] != end:\n",
    "            mp += [l[nxt]]\n",
    "            nxt = l[nxt] - 1\n",
    "        res.add(tuple(mp))\n",
    "    final_res = []\n",
    "    for item in res:\n",
    "        dup = False\n",
    "        for final_item in final_res:\n",
    "            if set(item) == set(final_item):\n",
    "                dup = True\n",
    "        if not dup:\n",
    "            final_res += [item]\n",
    "    if not binary:\n",
    "        return final_res\n",
    "    else:\n",
    "        final_res_bin = []\n",
    "        for mapping in final_res:\n",
    "            final_res_bin += [tuple([\"{0:06b}\".format(decimal) for decimal in mapping])]\n",
    "        return final_res_bin\n",
    "\n",
    "\n",
    "print(U_a_modN(2, 15))\n",
    "print(U_a_modN(2, 15, binary=True))"
   ]
  },
  {
   "cell_type": "code",
   "execution_count": null,
   "metadata": {},
   "outputs": [],
   "source": [
    "def mult_2mod15_quantum(qr, qc):\n",
    "    # Swap 0th qubit and 3rd qubit\n",
    "    qc.cx(qr[0], qr[3])\n",
    "    qc.cx(qr[3], qr[0])\n",
    "    qc.cx(qr[0], qr[3])\n",
    "\n",
    "    # Swap 0th qubit and 1st qubit\n",
    "    qc.cx(qr[1], qr[0])\n",
    "    qc.cx(qr[0], qr[1])\n",
    "    qc.cx(qr[1], qr[0])\n",
    "\n",
    "    # Swap 1st qubit and 2nd qubit\n",
    "    qc.cx(qr[1], qr[2])\n",
    "    qc.cx(qr[2], qr[1])\n",
    "    qc.cx(qr[1], qr[2])"
   ]
  }
 ],
 "metadata": {
  "kernelspec": {
   "display_name": "Python 3 (ipykernel)",
   "language": "python",
   "name": "python3"
  },
  "language_info": {
   "codemirror_mode": {
    "name": "ipython",
    "version": 3
   },
   "file_extension": ".py",
   "mimetype": "text/x-python",
   "name": "python",
   "nbconvert_exporter": "python",
   "pygments_lexer": "ipython3",
   "version": "3.10.12"
  }
 },
 "nbformat": 4,
 "nbformat_minor": 4
}
